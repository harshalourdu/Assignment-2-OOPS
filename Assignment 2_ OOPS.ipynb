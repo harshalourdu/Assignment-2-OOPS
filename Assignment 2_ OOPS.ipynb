{
 "cells": [
  {
   "cell_type": "markdown",
   "id": "c495a259-e88d-4d29-abe1-efb9b99ea79a",
   "metadata": {
    "jp-MarkdownHeadingCollapsed": true,
    "tags": []
   },
   "source": [
    "# Constructor :"
   ]
  },
  {
   "cell_type": "markdown",
   "id": "be7f14ee-c9bc-4e8b-acd6-d49f4311fb60",
   "metadata": {
    "tags": []
   },
   "source": [
    "# 1. What is a constructor in Python? Explain its purpose and usage.\n",
    "\n",
    "A constructor is a unique function that gets called automatically when an object is created of a class. The main purpose of a constructor is to initialize or assign values to the data members of that class. It cannot return any value other than none.\n",
    "\n",
    "Syntax of Python Constructor\n",
    "def __init__(self):\n",
    "\t# initializations\n",
    "    \n",
    "Types of Constructors in Python\n",
    "1. Parameterized Constructor\n",
    "2. Non-Parameterized Constructor\n",
    "3. Default Constructor\n",
    "\n",
    "\n",
    "# Example\n",
    "class Person:\n",
    "    def __init__(self, name, age):\n",
    "        self.name = name\n",
    "        self.age = age\n",
    "\n",
    "person = Person(\"John\", 30)\n",
    "print(person.name)\n",
    "print(person.age)\n",
    "\n",
    "Output:\n",
    "John\n",
    "30\n"
   ]
  },
  {
   "cell_type": "markdown",
   "id": "76ebf49c-3974-4c07-b905-aa956f459522",
   "metadata": {},
   "source": [
    "# 2. Differentiate between a parameterless constructor and a parameterized constructor in Python.\n",
    "\n",
    "Parameterized Constructors\n",
    "Parameterized constructors are useful when you want to create an object with custom values for its attributes. They allow you to specify the values of the object’s attributes when the object is created, rather than using default values.\n",
    "\n",
    "\n",
    "Here is an example of a class with a parameterized constructor:\n",
    " \n",
    "class Person:\n",
    "    def __init__(self, name, age):\n",
    "        self.name = name\n",
    "        self.age = age\n",
    "\n",
    "person = Person(\"Alice\", 25)\n",
    "print(person.name)\n",
    "print(person.age)\n",
    "\n",
    "Output:\n",
    "Alice\n",
    "25\n",
    "\n",
    "\n",
    "Non-Parameterized Constructors\n",
    "There is not necessarily a need for a non-parameterized constructor in Python. It is up to the programmer to decide whether to include a non-parameterized constructor in a class.\n",
    "\n",
    "However, a non-parameterized constructor can be useful in the following cases:\n",
    "\n",
    "When you want to initialize the default values for the instance variables of an object.\n",
    "When you want to perform some operations when an object is created, such as opening a file or establishing a connection to a database.\n",
    "When you want to create a “skeleton” object that can be used as a template for creating other objects.\n",
    "For example, consider the following class:\n",
    "\n",
    " \n",
    "class MyClass:\n",
    "    def __init__(self):\n",
    "        self.arg1 = 10\n",
    "        self.arg2 = 20\n",
    "\n",
    "obj = MyClass()\n",
    "print(obj.arg1)\n",
    "print(obj.arg2)"
   ]
  },
  {
   "cell_type": "markdown",
   "id": "3e4de6fa-2861-4440-ac27-9a768b5ab6e9",
   "metadata": {},
   "source": [
    "# 3. How do you define a constructor in a Python class? Provide an example.\n",
    "\n",
    "A constructor is a unique function that gets called automatically when an object is created of a class. The main purpose of a constructor is to initialize or assign values to the data members of that class. It cannot return any value other than none.\n",
    "\n",
    "Here is an example of a simple class with a constructor:\n",
    "\n",
    " class Person:\n",
    "    def __init__(self, name, age):\n",
    "        self.name = name\n",
    "        self.age = age\n",
    "\n",
    "person = Person(\"John\", 30)\n",
    "print(person.name)\n",
    "print(person.age)\n",
    "\n",
    "Output:\n",
    "John\n",
    "30"
   ]
  },
  {
   "cell_type": "markdown",
   "id": "253d60b7-d82f-49a4-a201-465956a45df4",
   "metadata": {},
   "source": [
    "# 4. Explain the `__init__` method in Python and its role in constructors.\n",
    "\n",
    "n Python, __init__ is a special method known as the constructor. It is automatically called when a new instance (object) of a class is created. The __init__ method allows you to initialize the attributes (variables) of an object.\n",
    "\n",
    "Init in Python: Syntax and Examples\n",
    "\n",
    "We can declare a __init__ method inside a class in Python using the following syntax:\n",
    "class class_name():\n",
    "def __init__(self)\n",
    "Required initialisation for data members\n",
    "Class methods\n",
    "\n",
    "Here’s an example to illustrate the usage of __init__:\n",
    "\n",
    "class MyClass:\n",
    "def __init__(self, name, age):\n",
    "self.name = name\n",
    "self.age = age\n",
    "\n",
    "def display_info(self):\n",
    "print(f\"Name: {self.name}\")\n",
    "print(f\"Age: {self.age}\")\n",
    "\n",
    "Creating an instance of MyClass\n",
    "obj = MyClass(\"John\", 25)\n",
    "\n",
    "Accessing attributes and calling methods\n",
    "obj.display_info()"
   ]
  },
  {
   "cell_type": "code",
   "execution_count": 1,
   "id": "784a3419-87c4-4b52-89f5-38bbc765cda9",
   "metadata": {},
   "outputs": [
    {
     "name": "stdout",
     "output_type": "stream",
     "text": [
      "Name: John\n",
      "Age: 20\n"
     ]
    }
   ],
   "source": [
    "#5. In a class named `Person`, create a constructor that initializes the `name` and `age` attributes. Provide an \n",
    "#example of creating an object of this class.\n",
    "\n",
    "class Person:\n",
    "    def __init__(self):\n",
    "        self.name = \"John\"\n",
    "        self.age = 20\n",
    "        \n",
    "p = Person()\n",
    "print(\"Name:\", p.name)\n",
    "print(\"Age:\", p.age)"
   ]
  },
  {
   "cell_type": "code",
   "execution_count": 2,
   "id": "a4d57fa6-f696-470b-9cb0-2a900c942d61",
   "metadata": {},
   "outputs": [
    {
     "name": "stdout",
     "output_type": "stream",
     "text": [
      "constructor\n",
      "constructor\n"
     ]
    }
   ],
   "source": [
    "# 6. How can you call a constructor explicitly in Python? Give an example.\n",
    "\n",
    "# we can call constructor explicitly with object name. But since the constructor gets executed automatically at the time of object creation, it is not recommended to call it explicitly.\n",
    "\n",
    "# Example: Calling Constructor Explicitly (demo4.py)\n",
    "\n",
    "class Employee:\n",
    "   def __init__ (self):\n",
    "       print(\"constructor\")\n",
    "emp = Employee()\n",
    "emp.__init__()"
   ]
  },
  {
   "cell_type": "code",
   "execution_count": 3,
   "id": "a2be2ff8-a02d-4562-9699-88476ee58d24",
   "metadata": {},
   "outputs": [
    {
     "name": "stdout",
     "output_type": "stream",
     "text": [
      "17\n"
     ]
    }
   ],
   "source": [
    "# 7. What is the significance of the `self` parameter in Python constructors? Explain with an example.\n",
    "\n",
    "#The term “self” refers to the instance of the class that is currently being used. It is customary to use “self” as the first parameter in instance methods of a class. Whenever you call a method of an object created from a class, the object is automatically passed as the first argument using the “self” parameter. This enables you to modify the object’s properties and execute tasks unique to that particular instance.\n",
    "\n",
    "\n",
    "class mynumber:\n",
    "    def __init__(self, value):\n",
    "        self.value = value\n",
    "     \n",
    "    def print_value(self):\n",
    "        print(self.value)\n",
    " \n",
    "obj1 = mynumber(17)\n",
    "obj1.print_value()"
   ]
  },
  {
   "cell_type": "code",
   "execution_count": 5,
   "id": "4adf0d39-1bfa-481b-bf6c-99f957fe7cb7",
   "metadata": {},
   "outputs": [
    {
     "name": "stdout",
     "output_type": "stream",
     "text": [
      "John\n",
      "30\n"
     ]
    }
   ],
   "source": [
    "# 8. Discuss the concept of default constructors in Python. When are they used?\n",
    "\n",
    "#Default constructors are useful when you want to create an object with a predefined set of attributes, but you don’t want to specify the values of those attributes when the object is created.\n",
    "\n",
    "#Here is an example of a default constructor:\n",
    "\n",
    " \n",
    "class Person:\n",
    "    def __init__(self):\n",
    "        self.name = \"John\"\n",
    "        self.age = 30\n",
    "\n",
    "person = Person()\n",
    "print(person.name)\n",
    "print(person.age)"
   ]
  },
  {
   "cell_type": "code",
   "execution_count": 6,
   "id": "99dfa66f-7fdf-4c30-8840-0c8392e22355",
   "metadata": {},
   "outputs": [
    {
     "name": "stdout",
     "output_type": "stream",
     "text": [
      "120\n"
     ]
    }
   ],
   "source": [
    "# 9. Create a Python class called `Rectangle` with a constructor that initializes the `width` and `height` \n",
    "#ttributes. Provide a method to calculate the area of the rectangle.\n",
    "\n",
    "class Rectangle():\n",
    "    def __init__(self, l, w):\n",
    "        self.length = l\n",
    "        self.width  = w\n",
    "\n",
    "    def rectangle_area(self):\n",
    "        return self.length*self.width\n",
    "\n",
    "newRectangle = Rectangle(12, 10)\n",
    "print(newRectangle.rectangle_area())"
   ]
  },
  {
   "cell_type": "markdown",
   "id": "ff3d173c-41bb-4f2e-8231-77de4b2e8d95",
   "metadata": {},
   "source": [
    "# 10. How can you have multiple constructors in a Python class? Explain with an example.\n",
    "\n",
    "Multiple Constructors in Single Class\n",
    "You can have more than one constructor in a single Python class. This is known as “method overloading”. \n",
    "To do this, you will need to use the same method name (in this case, the name of the method will be the same as the name of the class) but define the method with different numbers or types of arguments.\n",
    "\n",
    "class MyClass:\n",
    "    def __init__(self, arg1, arg2):\n",
    "        self.arg1 = arg1\n",
    "        self.arg2 = arg2\n",
    "    \n",
    "    def __init__(self, arg1):\n",
    "        self.arg1 = arg1\n",
    "        self.arg2 = None"
   ]
  },
  {
   "cell_type": "markdown",
   "id": "963894a1-6a0c-4b5c-80bc-ab5d8f15d058",
   "metadata": {},
   "source": [
    "# 11. What is method overloading, and how is it related to constructors in Python?\n",
    "Two or more methods have the same name but different numbers of parameters or different types of parameters, or both. These methods are called overloaded methods and this is called method overloading. \n"
   ]
  },
  {
   "cell_type": "code",
   "execution_count": 11,
   "id": "00f7f85a-1119-467f-93b7-53da3225c427",
   "metadata": {},
   "outputs": [
    {
     "name": "stdout",
     "output_type": "stream",
     "text": [
      "The ID is: 103\n",
      "The Name is: Suraj kr gupta\n",
      "The Address is: Noida\n",
      "The Emails is: KKK@gmails\n"
     ]
    }
   ],
   "source": [
    "#12. Explain the use of the `super()` function in Python constructors. Provide an example.\n",
    "\n",
    "#super() function is used to refer to the parent class or superclass. It allows you to call methods defined in the superclass from the subclass, enabling you to extend and customize the functionality inherited from the parent class.\n",
    "\n",
    "# super() function in Python Example\n",
    "#The Emp class has an __init__ method that initializes the id, and name and Adds attributes. The Freelance class inherits from the Emp class and adds an additional attribute called Emails. It calls the parent class’s __init__ method super() to initialize the inherited attribute.\n",
    "\n",
    "class Emp():\n",
    "    def __init__(self, id, name, Add):\n",
    "        self.id = id\n",
    "        self.name = name\n",
    "        self.Add = Add\n",
    " \n",
    "# Class freelancer inherits EMP\n",
    "class Freelance(Emp):\n",
    "    def __init__(self, id, name, Add, Emails):\n",
    "        super().__init__(id, name, Add)\n",
    "        self.Emails = Emails\n",
    " \n",
    "Emp_1 = Freelance(103, \"Suraj kr gupta\", \"Noida\" , \"KKK@gmails\")\n",
    "print('The ID is:', Emp_1.id)\n",
    "print('The Name is:', Emp_1.name)\n",
    "print('The Address is:', Emp_1.Add)\n",
    "print('The Emails is:', Emp_1.Emails)"
   ]
  },
  {
   "cell_type": "code",
   "execution_count": 13,
   "id": "67e6867d-c130-47d4-b5c3-0c0e2361ec95",
   "metadata": {},
   "outputs": [
    {
     "name": "stdout",
     "output_type": "stream",
     "text": [
      "('Book Title: ', 'Python Crash Course', 'Book Author: ', 'XYZ', 'Year: ', '23')\n"
     ]
    }
   ],
   "source": [
    "#13. Create a class called `Book` with a constructor that initializes the `title`, `author`, and `published_year` \n",
    "#attributes. Provide a method to display book details\n",
    "\n",
    "class Book:\n",
    "     # Question 2\n",
    "     def __init__(self , Title , Author , Year):\n",
    "          self.Title    =  Title\n",
    "          self.Author   =  Author\n",
    "          self.Year    =  Year\n",
    "          \n",
    "     # Question 3\n",
    "     def view(self ):\n",
    "          return (\"Book Title: \" , self.Title ,  \"Book Author: \" , self.Author, \"Year: \" , self.Year)\n",
    "          \n",
    "# Question 4\n",
    "MyBook = Book(\"Python Crash Course\" , \"XYZ\" , \"23\")          \n",
    "print( MyBook.view())"
   ]
  },
  {
   "cell_type": "markdown",
   "id": "48432b77-5424-4686-b9be-50a36bfa126a",
   "metadata": {},
   "source": [
    "# 14 Discuss the differences between constructors and regular methods in Python classes.\n",
    "\n",
    "Constructor :\n",
    "\n",
    "1. A constructor initializes an object.\n",
    "2. The 'new' keyword is crucial for calling the constructor.\t\n",
    "3. It lacks a return type.\t\n",
    "4. The constructor and class always have identical names.\t\n",
    "5. A constructor initializes an object that doesn't exist yet.\t\n",
    "6. A class can have multiple constructors with varying parameters.\t\n",
    "7. It can't be inherited by subclasses.\n",
    "\n",
    "\n",
    "Method :\n",
    "1. A method is a set of instructions that returns a value after execution.\n",
    "2. Method calls are essential for invoking methods.\n",
    "3. It has a return type.\n",
    "4. Methods can bear any name.\n",
    "5. A method operates on objects that have already been created.\n",
    "6. A class can have numerous methods with different parameters.\n",
    "7. It can be inherited by subclasses."
   ]
  },
  {
   "cell_type": "markdown",
   "id": "8e5254a6-dc5e-43ac-b166-656db157198d",
   "metadata": {},
   "source": [
    "# 15. Explain the role of the `self` parameter in instance variable initialization within a constructor.\n",
    "\n",
    "Self represents the instance of the class. By using the “self”  we can access the attributes and methods of the class in Python. \n",
    "\n",
    "When working with classes in Python, the term “self” refers to the instance of the class that is currently being used. It is customary to use “self” as the first parameter in instance methods of a class. Whenever you call a method of an object created from a class, the object is automatically passed as the first argument using the “self” parameter. This enables you to modify the object’s properties and execute tasks unique to that particular instance.\n",
    "\n",
    "class mynumber:\n",
    "    def __init__(self, value):\n",
    "        self.value = value\n",
    "     \n",
    "    def print_value(self):\n",
    "        print(self.value)\n",
    " \n",
    "obj1 = mynumber(17)\n",
    "obj1.print_value()\n",
    "\n",
    "Output:\n",
    "17"
   ]
  },
  {
   "cell_type": "markdown",
   "id": "88f65f8e-cf75-463f-b7dc-75f5cbdc6275",
   "metadata": {},
   "source": [
    "# 16. How do you prevent a class from having multiple instances by using constructors in Python? Provide an \n",
    "#example.\n",
    "\n",
    "# Python does not support constructor overloading. If you try to overload the constructor, the last implementation will be executed each time. \n",
    "#Any previous implementation will be over-written by the latest one. \n",
    "\n",
    "#Example Consider the following example :\n",
    "\n",
    "class Person:\n",
    "    def __init__(self, name:str):\n",
    "        # Constructor with only name\n",
    "        self.name = name\n",
    "        self.age = 20\n",
    "        \n",
    "    def __init__(self, name:str, age:int):\n",
    "        # Constructor with name and age. Overwrites above implementation.\n",
    "        self.name = name\n",
    "        self.age = age\n",
    "        \n",
    "    def __str__(self):\n",
    "        # Returns a string representation of the object.\n",
    "        return \"Person(Name: {}, Age: {})\".format(self.name, self.age)\n",
    "    \n",
    "if __name__ == '__main__':\n",
    "    obj1 = Person(\"Alice\", 20)\n",
    "    print(obj1)\n",
    "    # Throws error\n",
    "    obj2 = Person(\"Alice\")"
   ]
  },
  {
   "cell_type": "code",
   "execution_count": 19,
   "id": "88938e1a-b4c0-4093-a975-9aa92ee4cd1f",
   "metadata": {},
   "outputs": [
    {
     "name": "stdout",
     "output_type": "stream",
     "text": [
      "Person name :  Kanni\n",
      "Person age =  37\n",
      "-------------------------------\n",
      "Student name :  Juni\n",
      "Student age =  23\n",
      "Student section =  Mathematics\n"
     ]
    }
   ],
   "source": [
    "# 17. Create a Python class called `Student` with a constructor that takes a list of subjects as a parameter and \n",
    "# initializes the `subjects` attribute.\n",
    "\n",
    "class Person:\n",
    "    # define constructor with name and age as parameters\n",
    "    def __init__(self, name, age):\n",
    "        self.name = name\n",
    "        self.age = age\n",
    "    # create display method fro Person class\n",
    "    def display(self):\n",
    "        print(\"Person name : \", self.name)\n",
    "        print(\"Person age = \", self.age)\n",
    "    \n",
    "# create child class Student of Person class\n",
    "class Student(Person):\n",
    "    # define constructor of Student class with section additional parameters \n",
    "    def __init__(self, name , age , section):\n",
    "        Person.__init__(self,name, age)\n",
    "        self.section = section\n",
    "    \n",
    "    # Create display method for Student class\n",
    "    def displayStudent(self):\n",
    "        print(\"Student name : \", self.name)\n",
    "        print(\"Student age = \", self.age)\n",
    "        print(\"Student section = \", self.section)\n",
    "    \n",
    "# Testing Person class\n",
    "P = Person(\"Kanni\", 37)\n",
    "P.display()\n",
    "print(\"-------------------------------\")\n",
    "S = Student(\"Juni\", 23 , \"Mathematics\")\n",
    "S.displayStudent()"
   ]
  },
  {
   "cell_type": "code",
   "execution_count": 20,
   "id": "7364f18e-2d12-4399-b424-8b7e4de4f899",
   "metadata": {},
   "outputs": [
    {
     "name": "stdout",
     "output_type": "stream",
     "text": [
      "Student table created.\n",
      "Destructor called, Student table deleted.\n"
     ]
    }
   ],
   "source": [
    "# 18. What is the purpose of the `__del__` method in Python classes, and how does it relate to constructors?\n",
    "\n",
    "# Python program to illustrate __del__\n",
    "class Student:\n",
    "       # Initializing\n",
    "       def __init__(self):\n",
    "             print('Student table created.')\n",
    "\n",
    "       # Deleting (Calling destructor)\n",
    "       def __del__(self):\n",
    "             print('Destructor called, Student table deleted.')\n",
    "\n",
    "Stud1 = Student()\n",
    "del Stud1"
   ]
  },
  {
   "cell_type": "code",
   "execution_count": 21,
   "id": "b12fd0db-b300-4f11-82db-f921d6e55d60",
   "metadata": {},
   "outputs": [
    {
     "name": "stdout",
     "output_type": "stream",
     "text": [
      "Inside Vehicle Constructor\n",
      "Inside Car Constructor\n",
      "Inside Electric Car Constructor\n",
      "Engine=1500cc, Max Speed=240, Km range=750\n"
     ]
    }
   ],
   "source": [
    "# 19. Explain the use of constructor chaining in Python. Provide a practical example.\n",
    "\n",
    "#Constructor chaining is the process of calling one constructor from another constructor. Constructor chaining is useful when you want to invoke multiple constructors, one after another, by initializing only one instance.\n",
    "\n",
    "class Vehicle:\n",
    "    # Constructor of Vehicle\n",
    "    def __init__(self, engine):\n",
    "        print('Inside Vehicle Constructor')\n",
    "        self.engine = engine\n",
    "\n",
    "class Car(Vehicle):\n",
    "    # Constructor of Car\n",
    "    def __init__(self, engine, max_speed):\n",
    "        super().__init__(engine)\n",
    "        print('Inside Car Constructor')\n",
    "        self.max_speed = max_speed\n",
    "\n",
    "class Electric_Car(Car):\n",
    "    # Constructor of Electric Car\n",
    "    def __init__(self, engine, max_speed, km_range):\n",
    "        super().__init__(engine, max_speed)\n",
    "        print('Inside Electric Car Constructor')\n",
    "        self.km_range = km_range\n",
    "\n",
    "# Object of electric car\n",
    "ev = Electric_Car('1500cc', 240, 750)\n",
    "print(f'Engine={ev.engine}, Max Speed={ev.max_speed}, Km range={ev.km_range}')"
   ]
  },
  {
   "cell_type": "code",
   "execution_count": 22,
   "id": "4b0f4c95-3c81-488d-93a5-6516529c011e",
   "metadata": {},
   "outputs": [
    {
     "name": "stdout",
     "output_type": "stream",
     "text": [
      "Inside Vehicle Constructor\n",
      "Inside Car Constructor\n",
      "Inside Electric Car Constructor\n",
      "Engine=1500cc, Max Speed=240, Km range=750\n"
     ]
    }
   ],
   "source": [
    "# 20. Create a Python class called `Car` with a default constructor that initializes the `make` and `model` \n",
    "#attributes. Provide a method to display car information.\n",
    "\n",
    "class Car(Vehicle):\n",
    "    # Constructor of Car\n",
    "    def __init__(self, engine, max_speed):\n",
    "        super().__init__(engine)\n",
    "        print('Inside Car Constructor')\n",
    "        self.max_speed = max_speed\n",
    "\n",
    "class Electric_Car(Car):\n",
    "    # Constructor of Electric Car\n",
    "    def __init__(self, engine, max_speed, km_range):\n",
    "        super().__init__(engine, max_speed)\n",
    "        print('Inside Electric Car Constructor')\n",
    "        self.km_range = km_range\n",
    "\n",
    "# Object of electric car\n",
    "ev = Electric_Car('1500cc', 240, 750)\n",
    "print(f'Engine={ev.engine}, Max Speed={ev.max_speed}, Km range={ev.km_range}')"
   ]
  },
  {
   "cell_type": "code",
   "execution_count": null,
   "id": "89008b07-634b-4f0f-9a75-0e5cd3c90c1b",
   "metadata": {},
   "outputs": [],
   "source": []
  },
  {
   "cell_type": "markdown",
   "id": "39dbdc1d-0293-452b-9d33-9f5f67edb3a1",
   "metadata": {},
   "source": [
    "# Inheritance:"
   ]
  },
  {
   "cell_type": "markdown",
   "id": "c331911b-c08d-40c4-a133-b92aef1899c9",
   "metadata": {},
   "source": [
    "# 1. What is inheritance in Python? Explain its significance in object-oriented programming.\n",
    "\n",
    "One of the core concepts in object-oriented programming (OOP) languages is inheritance. It is a mechanism that allows you to create a hierarchy of classes that share a set of properties and methods by deriving a class from another class. Inheritance is the capability of one class to derive or inherit the properties from another class. "
   ]
  },
  {
   "cell_type": "markdown",
   "id": "d777a862-982e-464c-b43e-5122b8c35bb9",
   "metadata": {},
   "source": [
    "# 2. Differentiate between single inheritance and multiple inheritance in Python. Provide examples for each.\n",
    "\n",
    "SINGLE INHERITANCE :\n",
    "1. Derived class inherits a single base class.\n",
    "2. Class derived_class : access_specifier base class.\n",
    "3. Derived class access the features of single base class.\n",
    "4. Public, Private, Protected\n",
    "5. Require small amount of run time over head\n",
    "6. Constructs are Inheritance tree.\n",
    "\n",
    "MULTIPLE INHERITANCE :\n",
    "1. Derived class inherits two or more than two base class.\n",
    "2. Class derived _class: access_specifier base_class1, access_specifier base_class2, ....\n",
    "3. Derived class access the combined features of inherited base classes\n",
    "4. Public, Private, Protected\n",
    "5. Require additional runtime overhead as compared to single inheritance\n",
    "6. Inheritance Directed Acyclic Graph (DAG)\n"
   ]
  },
  {
   "cell_type": "code",
   "execution_count": 26,
   "id": "6d6e09dc-f0f3-405c-96d5-5efa629c4cb6",
   "metadata": {},
   "outputs": [
    {
     "name": "stdout",
     "output_type": "stream",
     "text": [
      "{'model': 'Ferrari', 'color': 'yellow', 'currSpeed': 0, 'maxSpeed': 200, 'mpg': 10, 'currFuel': 40, 'mileage': 0}\n"
     ]
    }
   ],
   "source": [
    "# 3. Create a Python class called `Vehicle` with attributes `color` and `speed`. Then, create a child class called \n",
    "# `Car` that inherits from `Vehicle` and adds a `brand` attribute. Provide an example of creating a `Car` object.\n",
    "\n",
    "def makeCarClass():\n",
    "    def initialize(self, model, color, currSpeed, maxSpeed, mpg, currFuel, mileage):\n",
    "        self[\"model\"] = model \n",
    "        self[\"color\"] = color\n",
    "        self[\"currSpeed\"] = currSpeed\n",
    "        self[\"maxSpeed\"] = maxSpeed\n",
    "        self[\"mpg\"] = mpg \n",
    "        self[\"currFuel\"] = currFuel\n",
    "        self[\"mileage\"] = mileage\n",
    "        return self\n",
    "\n",
    "    def changeSpeed(self, amount):\n",
    "        newSpeed = self[\"currSpeed\"] + amount\n",
    "        if newSpeed >= self[\"maxSpeed\"]:\n",
    "            self[\"currSpeed\"] = self[\"maxSpeed\"]\n",
    "        elif newSpeed <=0:\n",
    "            self[\"currSpeed\"] = 0\n",
    "        else:\n",
    "            self[\"currSpeed\"] = newSpeed\n",
    "\n",
    "    def move(self, miles):\n",
    "        fuelNeeded = miles/self[\"mpg\"]\n",
    "        currFuel = self[\"currFuel\"]\n",
    "        if currFuel <= fuelNeeded:\n",
    "            self[\"currFuel\"] = 0\n",
    "            self[\"mileage\"] = self[\"mileage\"] + currFuel * self[\"mpg\"]\n",
    "            print(\"Warning: Your car has run out of fuel\")\n",
    "\n",
    "        else:\n",
    "            self[\"currFuel\"] = currFuel - fuelNeeded\n",
    "            self[\"mileage\"] = self[\"mileage\"] + miles\n",
    "\n",
    "    return {\"initialize\":initialize, \"changeSpeed\":changeSpeed, \"move\":move}\n",
    "\n",
    "\n",
    "carClass = makeCarClass()\n",
    "\n",
    "car1 = carClass[\"initialize\"]({},\"Ferrari\", \"yellow\", 0, 200, 10, 40, 0)\n",
    "car2 = carClass[\"initialize\"]({},\"Honda\", \"black\", 0, 120, 30, 40, 0)\n",
    "print(car1)"
   ]
  },
  {
   "cell_type": "code",
   "execution_count": 1,
   "id": "b0f5f60f-a4de-43d5-a155-9044712576c1",
   "metadata": {},
   "outputs": [
    {
     "name": "stdout",
     "output_type": "stream",
     "text": [
      "Function defined in parent class!\n"
     ]
    }
   ],
   "source": [
    "# 4. Explain the concept of method overriding in inheritance. Provide a practical example.\n",
    "\n",
    "#Method overriding is a concept of object oriented programming that allows us to change the implementation of a function in the child class that is defined in the parent class. It is the ability of a child class to change the implementation of any method which is already provided by one of its parent class(ancestors).\n",
    "\n",
    "# parent class\n",
    "class Parent:\n",
    "    # some random function\n",
    "    def anything(self):\n",
    "        print('Function defined in parent class!')\n",
    "        \n",
    "# child class\n",
    "class Child(Parent):\n",
    "    # empty class definition\n",
    "    pass\n",
    "\n",
    "\n",
    "obj2 = Child()\n",
    "obj2.anything()"
   ]
  },
  {
   "cell_type": "code",
   "execution_count": 3,
   "id": "a2523eeb-57ef-4c43-8097-269479bdbe2c",
   "metadata": {},
   "outputs": [
    {
     "name": "stdout",
     "output_type": "stream",
     "text": [
      "100\n",
      "emp-cls\n",
      "100\n"
     ]
    }
   ],
   "source": [
    "# 5. How can you access the methods and attributes of a parent class from a child class in Python? Give an\n",
    "#example.\n",
    "\n",
    "# To access parent class attributes in a child class:\n",
    "\n",
    "# Use the super() method to call the constructor of the parent in the child.\n",
    "# The __init__() method will set the instance variables.\n",
    "# Access any of the parent class's attributes or methods on the self object.\n",
    "\n",
    "class Employee():\n",
    "    cls_id = 'emp-cls'\n",
    "\n",
    "    def __init__(self, name):\n",
    "        self.salary = 100\n",
    "        self.name = name\n",
    "\n",
    "\n",
    "class Developer(Employee):\n",
    "    def __init__(self, name):\n",
    "      #  invoke parent __init__() method\n",
    "        super().__init__(name)\n",
    "\n",
    "       #  accessing parent instance variable\n",
    "        print(self.salary) \n",
    "\n",
    "      #  accessing parent class variable\n",
    "        print(self.cls_id)  \n",
    "\n",
    "\n",
    "d1 = Developer('bobbyhadz')\n",
    "print(d1.salary)  \n",
    "\n"
   ]
  },
  {
   "cell_type": "code",
   "execution_count": 6,
   "id": "e2c49ed8-c0fb-4900-a28b-de7ae2c3e4ca",
   "metadata": {},
   "outputs": [
    {
     "name": "stdout",
     "output_type": "stream",
     "text": [
      "The ID is: 103\n",
      "The Name is: Suraj kr gupta\n",
      "The Address is: Noida\n",
      "The Emails is: KKK@gmails\n"
     ]
    }
   ],
   "source": [
    "# 6. Discuss the use of the `super()` function in Python inheritance. When and why is it used? Provide an\n",
    "#example.\n",
    "\n",
    "# The super() function is a built-in function in Python that provides a convenient way to access and delegate methods and attributes of parent classes. When used, it allows one class to access the methods and properties of another class in the same hierarchy. It is commonly used to avoid redundant code and make it more organized and easier to maintain.\n",
    "class Emp():\n",
    "    def __init__(self, id, name, Add):\n",
    "        self.id = id\n",
    "        self.name = name\n",
    "        self.Add = Add\n",
    " \n",
    "# Class freelancer inherits EMP\n",
    "class Freelance(Emp):\n",
    "    def __init__(self, id, name, Add, Emails):\n",
    "        super().__init__(id, name, Add)\n",
    "        self.Emails = Emails\n",
    " \n",
    "Emp_1 = Freelance(103, \"Suraj kr gupta\", \"Noida\" , \"KKK@gmails\")\n",
    "print('The ID is:', Emp_1.id)\n",
    "print('The Name is:', Emp_1.name)\n",
    "print('The Address is:', Emp_1.Add)\n",
    "print('The Emails is:', Emp_1.Emails)"
   ]
  },
  {
   "cell_type": "code",
   "execution_count": 9,
   "id": "18694927-4c53-4c4d-b2b1-4d1ffd0a8c6d",
   "metadata": {},
   "outputs": [
    {
     "name": "stdout",
     "output_type": "stream",
     "text": [
      "Tina is a Female Persian Cat, sitting on the Ground\n",
      "Tina just did a soft meow\n",
      "Flora is a Female Pug Dog, sitting on the Ground\n",
      "Mickey just did a loud woof\n"
     ]
    }
   ],
   "source": [
    "# 7. Create a Python class called `Animal` with a method `speak()`. Then, create child classes `Dog` and `Cat`\n",
    "#that inherit from `Animal` and override the `speak()` method. Provide an example of using these classes.\n",
    "\n",
    "class Animal:\n",
    "    def __init__(self, kind, place):\n",
    "        self.kind = kind\n",
    "        self.place = place\n",
    "\n",
    "#This class inherits kind and place arguments from Animal class (which can work for any animal)\n",
    "#Initiates a Dog object with name, gender and breed parameters.\n",
    "\n",
    "class Dog(Animal):\n",
    "    def __init__(self, name, gender, breed):\n",
    "        self.name = name\n",
    "        self.gender = gender\n",
    "        self.breed = breed\n",
    "        Animal.__init__(self, 'Dog', 'Ground')\n",
    "\n",
    "    #woof method, just prints an action for the Dog object with his name. \n",
    "    def woof(self, *args):\n",
    "        print(\"%s just did a %s woof\" % (self.name, *args))\n",
    "\n",
    "    #getallinfo method, get's all the parametrs of both classes.\n",
    "    def getallinfo(self):\n",
    "        print(\"%s is a %s %s %s, sitting on the %s\" % (self.name, self.gender, self.breed, self.kind, self.place))\n",
    "\n",
    "#Cat class inherits the paramets of use for a Cat (similar things) like name, gender and breed, which they both share, also the getallinfo method and initiate them. \n",
    "class Cat(Dog):\n",
    "    def __init__(self, name, gender, breed):\n",
    "        Dog.__init__(self, name, gender, breed)\n",
    "        Animal.__init__(self, 'Cat', 'Ground')\n",
    "\n",
    "#Speak method, returns a print for a cat \"meow\" with him name.\n",
    "    def speak(self, *args):\n",
    "        print(\"%s just did a %s meow\" % (self.name, *args))\n",
    "\n",
    "#Here I create 3 objects, 2 dogs and 1 cat with selected arguments.\n",
    "#And check for some methods on the objects.\n",
    "Mickey = Dog('Mickey', 'Male', 'Bulldog')\n",
    "Flora = Dog('Flora','Female','Pug')\n",
    "Tina = Cat('Tina','Female','Persian')\n",
    "Tina.getallinfo()\n",
    "Tina.speak('soft')\n",
    "Dog.getallinfo(Flora)\n",
    "Dog.woof(Mickey, 'loud')"
   ]
  },
  {
   "cell_type": "code",
   "execution_count": 10,
   "id": "82ddd811-f52e-4f63-b395-1117298aba35",
   "metadata": {},
   "outputs": [
    {
     "name": "stdout",
     "output_type": "stream",
     "text": [
      "True\n",
      "False\n",
      "True\n"
     ]
    }
   ],
   "source": [
    "# 8. Explain the role of the `isinstance()` function in Python and how it relates to inheritance.\n",
    "\n",
    "# The isinstance () function checks whether an object is an instance of the class mentioned. One can test if an object or variable is an instance of the type or class. If inheritance is present in the program, then the function can be used to check if a specified class is the parent class of an object. \n",
    "\n",
    "class Test1:\n",
    "\n",
    "              a = 6\n",
    "\n",
    "testInstance = Test1 ()\n",
    "\n",
    "print (isinstance (testInstance, Test1))\n",
    "\n",
    "print (isinstance (testInstance, (list, tuple)))\n",
    "\n",
    "print (isinstance (testInstance, (list, tuple, Test1)))\n"
   ]
  },
  {
   "cell_type": "code",
   "execution_count": 14,
   "id": "c70561bf-7873-4c76-b640-cbbb91309418",
   "metadata": {},
   "outputs": [],
   "source": [
    "# 9. What is the purpose of the `issubclass()` function in Python? Provide an example.\n",
    "\n",
    "# he issubclass() function returns True if the specified object is a subclass of the specified object, otherwise False.\n",
    "\n",
    "# example :\n",
    "\n",
    "class myAge:\n",
    "  age = 36\n",
    "\n",
    "class myObj(myAge):\n",
    "  name = \"John\"\n",
    "  age = myAge\n",
    "\n",
    "x = issubclass(myObj, myAge)\n"
   ]
  },
  {
   "cell_type": "markdown",
   "id": "5fe584c6-a79a-4e1d-af8e-187549accdc5",
   "metadata": {},
   "source": [
    "# 10. Discuss the concept of constructor inheritance in Python. How are constructors inherited in child classes?\n",
    "\n",
    "In Python, every class inherits from a built-in basic class called ‘object’. The constructor i.e. the ‘__init__’ function of a class is invoked when we create an object variable or an instance of the class.\n",
    "\n",
    "The variables defined within __init__() are called instance variables or objects. "
   ]
  },
  {
   "cell_type": "code",
   "execution_count": 17,
   "id": "92fdc52f-f3c2-4e14-aaab-10c65e957a68",
   "metadata": {},
   "outputs": [
    {
     "name": "stdout",
     "output_type": "stream",
     "text": [
      "Calculate Shape Area\n"
     ]
    },
    {
     "name": "stdin",
     "output_type": "stream",
     "text": [
      "Enter the name of shape whose area you want to find:  5\n"
     ]
    },
    {
     "name": "stdout",
     "output_type": "stream",
     "text": [
      "Sorry! This shape is not available\n"
     ]
    }
   ],
   "source": [
    "# 11. Create a Python class called `Shape` with a method `area()` that calculates the area of a shape. Then,\n",
    "#create child classes `Circle` and `Rectangle` that inherit from `Shape` and implement the `area()` method\n",
    "#accordingly. Provide an example.\n",
    "\n",
    "def calculate_area(name):\\\n",
    "   \n",
    "  # converting all characters\n",
    "  # into lower cases\n",
    "  name = name.lower()\n",
    "   \n",
    "  # check for the conditions\n",
    "  if name == \"rectangle\":\n",
    "    l = int(input(\"Enter rectangle's length: \"))\n",
    "    b = int(input(\"Enter rectangle's breadth: \"))\n",
    "     \n",
    "    # calculate area of rectangle\n",
    "    rect_area = l * b\n",
    "    print(f\"The area of rectangle is {rect_area}.\")\n",
    "   \n",
    "  elif name == \"square\":\n",
    "    s = int(input(\"Enter square's side length: \"))\n",
    "       \n",
    "    # calculate area of square\n",
    "    sqt_area = s * s\n",
    "    print(f\"The area of square is {sqt_area}.\")\n",
    " \n",
    "  elif name == \"triangle\":\n",
    "    h = int(input(\"Enter triangle's height length: \"))\n",
    "    b = int(input(\"Enter triangle's breadth length: \"))\n",
    "       \n",
    "    # calculate area of triangle\n",
    "    tri_area = 0.5 * b * h\n",
    "    print(f\"The area of triangle is {tri_area}.\")\n",
    " \n",
    "  elif name == \"circle\":\n",
    "    r = int(input(\"Enter circle's radius length: \"))\n",
    "    pi = 3.14\n",
    "         \n",
    "    # calculate area of circle\n",
    "    circ_area = pi * r * r\n",
    "    print(f\"The area of circle is {circ_area}.\")\n",
    "         \n",
    "  elif name == 'parallelogram':\n",
    "    b = int(input(\"Enter parallelogram's base length: \"))\n",
    "    h = int(input(\"Enter parallelogram's height length: \"))\n",
    "     \n",
    "    # calculate area of parallelogram\n",
    "    para_area = b * h\n",
    "    print(f\"The area of parallelogram is {para_area}.\")\n",
    "     \n",
    "  else:\n",
    "    print(\"Sorry! This shape is not available\")\n",
    " \n",
    "# driver code\n",
    "if __name__ == \"__main__\" :\n",
    "   \n",
    "  print(\"Calculate Shape Area\")\n",
    "  shape_name = input(\"Enter the name of shape whose area you want to find: \")\n",
    "   \n",
    "  # function calling\n",
    "  calculate_area(shape_name)"
   ]
  },
  {
   "cell_type": "code",
   "execution_count": 18,
   "id": "0e4d0322-d919-41a9-917e-fa8fd57bad37",
   "metadata": {},
   "outputs": [
    {
     "name": "stdout",
     "output_type": "stream",
     "text": [
      "<class 'dict'>\n"
     ]
    }
   ],
   "source": [
    "# 12. Explain the use of abstract base classes (ABCs) in Python and how they relate to inheritance. Provide an\n",
    "# example using the `abc` module.\n",
    "\n",
    "#The main goal of the abstract base class is to provide a standardized way to test whether an object adheres to a given specification. It can also prevent any attempt to instantiate a subclass that doesn’t override a particular method in the superclass. And finally, using an abstract class, a class can derive identity from another class without any object inheritance.\n",
    "\n",
    "import abc \n",
    "  \n",
    "  \n",
    "class AbstractClass(metaclass=abc.ABCMeta): \n",
    "    def abstractfunc(self): \n",
    "        return None\n",
    "  \n",
    "  \n",
    "print(AbstractClass.register(dict)) "
   ]
  },
  {
   "cell_type": "markdown",
   "id": "13d9525d-0f68-4d9f-83b9-bab05457d8eb",
   "metadata": {},
   "source": [
    "# 13. How can you prevent a child class from modifying certain attributes or methods inherited from a parent\n",
    "#class in Python?\n",
    "\n",
    "\n",
    "#python classes aren’t only limited to this aspect, but they are also characterized by inheritance. The goal of inheritance is to reuse an already-built class to create a new class. In this way, you don’t always need to create a class from scratch and this class, called Child Class, will inherit the attributes and methods from another class, Parent Class, allowing you to reduce the lines of code and redundancy.\n",
    "\n",
    "1. Create Parent Class\n",
    "\n",
    "As explained previously, the Child Class is based on the Parent Class. Hence, the first step is to create the Parent Class. This class will allow creating a Child Class, avoiding writing the same lines of code.\n",
    "\n",
    "For example, let’s define a medium_user class, which will collect information like name, surname, username, email, and a boolean attribute “subscriber” to check if the user is a member or not, using the __init__ method. Moreover, it has read ,clap and is_member methods."
   ]
  },
  {
   "cell_type": "markdown",
   "id": "2c085338-5846-4db7-8e17-a2d7012eceef",
   "metadata": {},
   "source": [
    "# 15. Discuss the concept of method overloading in Python inheritance. How does it differ from method overriding?\n",
    "\n",
    "Method Overloading:\n",
    "\n",
    "Method Overloading is an example of Compile time polymorphism. In this, more than one method of the same class shares the same method name having different signatures. Method overloading is used to add more to the behavior of methods and there is no need of more than one class for method overloading.\n",
    "\n",
    "Method Overriding:\n",
    "\n",
    "Method overriding is an example of run time polymorphism. In this, the specific implementation of the method that is already provided by the parent class is provided by the child class. It is used to change the behavior of existing methods and there is a need for at least two classes for method overriding. In method overriding, inheritance always required as it is done between parent class(superclass) and child class(child class) methods."
   ]
  },
  {
   "cell_type": "markdown",
   "id": "a800eb93-45f9-43dc-8f38-eb4b9759894b",
   "metadata": {},
   "source": [
    "# 16. Explain the purpose of the `__init__()` method in Python inheritance and how it is utilized in child classes.\n",
    "\n",
    "The Default __init__ Constructor in C++ and Java. Constructors are used to initializing the object’s state. The task of constructors is to initialize(assign values) to the data members of the class when an object of the class is created. Like methods, a constructor also contains a collection of statements(i.e. instructions) that are executed at the time of Object creation. It is run as soon as an object of a class is instantiated. The method is useful to do any initialization you want to do with your object."
   ]
  },
  {
   "cell_type": "code",
   "execution_count": 24,
   "id": "796a832e-0b25-4fe2-8529-06d420b053f0",
   "metadata": {},
   "outputs": [
    {
     "name": "stdout",
     "output_type": "stream",
     "text": [
      "True\n",
      "True\n",
      "It eats.\n",
      "It sleeps.\n",
      "It flies in the sky.\n"
     ]
    }
   ],
   "source": [
    "# 17. Create a Python class called `Bird` with a method `fly()`. Then, create child classes `Eagle` and `Sparrow`\n",
    "# that inherit from `Bird` and implement the `fly()` method differently. Provide an example of using these classes.\n",
    "\n",
    "\n",
    "class Bird(Animal):\n",
    "    def fly(self):\n",
    "        print(\"It flies in the sky.\")\n",
    "\n",
    "print(issubclass(Bird, Animal))\n",
    "\n",
    "duck = Bird()\n",
    "print(isinstance(duck, Bird))\n",
    "\n",
    "duck.eat()\n",
    "duck.sleep()\n",
    "duck.fly()\n"
   ]
  },
  {
   "cell_type": "markdown",
   "id": "66272620-2e17-4494-993b-302f0b7abeda",
   "metadata": {},
   "source": [
    "# 18. What is the \"diamond problem\" in multiple inheritance, and how does Python address it?\n",
    "\n",
    "It refers to an ambiguity that arises when two classes Class2 and Class3 inherit from a superclass Class1 and class Class4 inherits from both Class2 and Class3. If there is a method “m” which is an overridden method in one of Class2 and Class3 or both then the ambiguity arises which of the method “m” Class4 should inherit."
   ]
  },
  {
   "cell_type": "markdown",
   "id": "fa4afa21-9583-4217-89c6-cdae311d77e1",
   "metadata": {},
   "source": [
    "# 19. Discuss the concept of \"is-a\" and \"has-a\" relationships in inheritance, and provide examples of each.\n",
    "\n",
    "# IS-A Relationship:\n",
    "\n",
    "# In object-oriented programming, the concept of IS-A is a totally based on Inheritance, which can be of two types Class Inheritance or Interface Inheritance. It is just like saying \"A is a B type of thing\". For example, Apple is a Fruit, Car is a Vehicle etc. Inheritance is uni-directional. For example, House is a Building. But Building is not a House.\n",
    "\n",
    "# Example :\n",
    "\n",
    "class Animal {\n",
    "    void eat() {\n",
    "        // Common implementation for all animals\n",
    "    }\n",
    "}\n",
    "\n",
    "class Dog extends Animal {\n",
    "    void bark() {\n",
    "        // Dog-specific behavior\n",
    "    }\n",
    "}"
   ]
  },
  {
   "cell_type": "code",
   "execution_count": 31,
   "id": "2770ffcc-91ac-47fb-ac52-b14dd49195cf",
   "metadata": {},
   "outputs": [
    {
     "name": "stdout",
     "output_type": "stream",
     "text": [
      "Person name :  Tomas Wild\n",
      "Person age =  37\n",
      "-------------------------------\n",
      "Student name :  Albert\n",
      "Student age =  23\n",
      "Student section =  Mathematics\n"
     ]
    }
   ],
   "source": [
    "# 20. Create a Python class hierarchy for a university system. Start with a base class `Person` and create child\n",
    "# classes `Student` and `Professor`, each with their own attributes and methods. Provide an example of using\n",
    "# these classes in a university context.\n",
    "\n",
    "class Person:\n",
    "    # define constructor with name and age as parameters\n",
    "    def __init__(self, name, age):\n",
    "        self.name = name\n",
    "        self.age = age\n",
    "    # create display method fro Person class\n",
    "    def display(self):\n",
    "        print(\"Person name : \", self.name)\n",
    "        print(\"Person age = \", self.age)\n",
    "    \n",
    "# create child class Student of Person class\n",
    "class Student(Person):\n",
    "    # define constructor of Student class with section additional parameters \n",
    "    def __init__(self, name , age , section):\n",
    "        Person.__init__(self,name, age)\n",
    "        self.section = section\n",
    "    \n",
    "    # Create display method for Student class\n",
    "    def displayStudent(self):\n",
    "        print(\"Student name : \", self.name)\n",
    "        print(\"Student age = \", self.age)\n",
    "        print(\"Student section = \", self.section)\n",
    "    \n",
    "# Testing Person class\n",
    "P = Person(\"Tomas Wild\", 37)\n",
    "P.display()\n",
    "print(\"-------------------------------\")\n",
    "S = Student(\"Albert\", 23 , \"Mathematics\")\n",
    "S.displayStudent()"
   ]
  },
  {
   "cell_type": "code",
   "execution_count": null,
   "id": "ec2e94cd-2cf6-49f5-a138-80ec74216754",
   "metadata": {},
   "outputs": [],
   "source": []
  },
  {
   "cell_type": "code",
   "execution_count": null,
   "id": "c0bce25c-376f-4ddd-ac49-7b15318d09d6",
   "metadata": {},
   "outputs": [],
   "source": []
  },
  {
   "cell_type": "markdown",
   "id": "c5e6ca99-91d8-4e60-a949-7a8a6623a59e",
   "metadata": {},
   "source": [
    "# Encapsulation:"
   ]
  },
  {
   "cell_type": "markdown",
   "id": "847e7651-ca90-4aa1-ab93-8460b079f554",
   "metadata": {},
   "source": [
    "# 1. Explain the concept of encapsulation in Python. What is its role in object-oriented programming?\n",
    "\n",
    "Encapsulation is one of the fundamental concepts in object-oriented programming (OOP). It describes the idea of wrapping data and the methods that work on data within one unit. This puts restrictions on accessing variables and methods directly and can prevent the accidental modification of data. \n",
    "\n",
    "To prevent accidental change, an object’s variable can only be changed by an object’s method. Those types of variables are known as private variables.\n",
    "\n",
    "A class is an example of encapsulation as it encapsulates all the data that is member functions, variables, etc. \n",
    "\n"
   ]
  },
  {
   "cell_type": "markdown",
   "id": "6698b29f-5bb0-4bb0-b4b4-816f72cab4b9",
   "metadata": {},
   "source": [
    "# 2. Describe the key principles of encapsulation, including access control and data hiding.\n",
    "\n",
    "Encapsulation is one of the fundamentals of OOP (object-oriented programming). It refers to the bundling of data with the methods that operate on that data. Encapsulation is used to hide the values or state of a structured data object inside a class, preventing unauthorized parties’ direct access to them. \n",
    "\n",
    "Key Terms\n",
    "\n",
    "# abstraction\n",
    "A technique for arranging complexity of computer systems so that functionality may be separated from specific implementation details.\n",
    "\n",
    "# accessor\n",
    "A method used to return the value of a private member variable, also known as a getter method.\n",
    "\n",
    "# encapsulation\n",
    "A language mechanism for restricting direct access to some of an object’s components.\n",
    "\n",
    "# information hiding\n",
    "The principle of segregation of the design decisions in a computer program from other parts of the program. See encapsulation.\n",
    "\n",
    "# mutator\n",
    "A method used to control changes to a private member variable, also known as a setter method.\n",
    "\n",
    "# private\n",
    "An access modifier that restricts visibility of a property or method to the class in which it is defined.\n",
    "\n",
    "# public\n",
    "An access modifier that opens visibility of a property or method to all other classes."
   ]
  },
  {
   "cell_type": "code",
   "execution_count": 1,
   "id": "6812b30a-c265-40c8-9c31-82d009c7235a",
   "metadata": {},
   "outputs": [
    {
     "name": "stdout",
     "output_type": "stream",
     "text": [
      "Name:  Jessa Salary: 10000\n",
      "Name:  Jessa Salary: 10000\n"
     ]
    }
   ],
   "source": [
    "# 3. How can you achieve encapsulation in Python classes? Provide an example.\n",
    "\n",
    "class Employee:\n",
    "    # constructor\n",
    "    def __init__(self, name, salary):\n",
    "        # public data members\n",
    "        self.name = name\n",
    "        self.salary = salary\n",
    "\n",
    "    # public instance methods\n",
    "    def show(self):\n",
    "        # accessing public data member\n",
    "        print(\"Name: \", self.name, 'Salary:', self.salary)\n",
    "\n",
    "# creating object of a class\n",
    "emp = Employee('Jessa', 10000)\n",
    "\n",
    "# accessing public data members\n",
    "print(\"Name: \", emp.name, 'Salary:', emp.salary)\n",
    "\n",
    "# calling public method of the class\n",
    "emp.show()"
   ]
  },
  {
   "cell_type": "markdown",
   "id": "1a818cd3-34a7-446d-8c94-4d6e931fe990",
   "metadata": {},
   "source": [
    "# 4. Discuss the difference between public, private, and protected access modifiers in Python.\n",
    "\n",
    "# Public Access Modifier:\n",
    "The members of a class that are declared public are easily accessible from any part of the program. All data members and member functions of a class are public by default. \n",
    "\n",
    "# Protected Access Modifier:\n",
    "The members of a class that are declared protected are only accessible to a class derived from it. Data members of a class are declared protected by adding a single underscore ‘_’ symbol before the data member of that class. \n",
    "\n",
    "# Private Access Modifier:\n",
    "The members of a class that are declared private are accessible within the class only, private access modifier is the most secure access modifier. Data members of a class are declared private by adding a double underscore ‘__’ symbol before the data member of that class. "
   ]
  },
  {
   "cell_type": "code",
   "execution_count": 4,
   "id": "0c314a5c-09a5-459b-8bf9-3c4b3d6fb427",
   "metadata": {},
   "outputs": [],
   "source": [
    "# 5. Create a Python class called `Person` with a private attribute `__name`. Provide methods to get and set the\n",
    "# name attribute.\n",
    "\n",
    "class P:\n",
    "   def __init__(self, name, alias):\n",
    "      self.name = name       # public\n",
    "      self.__alias = alias   # private\n",
    "\n",
    "   def who(self):\n",
    "      print('name  : ', self.name)\n",
    "      print('alias : ', self.__alias)\n",
    "\n",
    "   def __foo(self):          # private method\n",
    "      print('This is private method')\n",
    "\n",
    "   def foo(self):            # public method\n",
    "      print('This is public method')\n",
    "      self.__foo()"
   ]
  },
  {
   "cell_type": "markdown",
   "id": "5e3ffa94-4361-4324-a921-c0984105dc4f",
   "metadata": {},
   "source": [
    "# 6. Explain the purpose of getter and setter methods in encapsulation. Provide examples.\n",
    "\n",
    "Getter() in Python\n",
    "Getters are OOPs functions in python. Getters are functions used to retrieve the values of private attributes, while setters are functions used to modify or assign values to private attributes.\n",
    "\n",
    "In Python, since private variables cannot be accessed directly, the getter method provides a way to retrieve them from outside the class, thereby helping in data encapsulation. The getter method typically allows read-only access to the properties of an object. Getters are named with a ‘get_’ prefix followed by the attribute name whose value is to be accessed.\n",
    "\n",
    "\n",
    "Setter() in Python \n",
    "Setters are methods in OOPs that are used to modify and update the value of an attribute of an object. Certain constraints can also be applied along with setter methods. This ensures that the new values assigned to the attributes are valid. Setter() are used together with the getter() method in Python."
   ]
  },
  {
   "cell_type": "markdown",
   "id": "0e364151-f302-4987-a57f-26e622fa2cd5",
   "metadata": {},
   "source": [
    "# 7. What is name mangling in Python, and how does it affect encapsulation?\n",
    "\n",
    "In name mangling process any identifier with two leading underscore and one trailing underscore is textually replaced with _classname__identifier where classname is the name of the current class. It means that any identifier of the form __geek (at least two leading underscores or at most one trailing underscore) is replaced with _classname__geek, where classname is the current class name with leading underscore(s) stripped."
   ]
  },
  {
   "cell_type": "code",
   "execution_count": 5,
   "id": "2825e889-2e6a-46b7-9518-1c497124146f",
   "metadata": {},
   "outputs": [
    {
     "name": "stdout",
     "output_type": "stream",
     "text": [
      "Account Number :  2178514584\n",
      "Account Name :  Albert\n",
      "Account Balance :  2600  $\n"
     ]
    }
   ],
   "source": [
    "# 8. Create a Python class called `BankAccount` with private attributes for the account balance (`__balance`)\n",
    "# and account number (`__account_number`). Provide methods for depositing and withdrawing money.\n",
    "\n",
    "class BankAccount:\n",
    "    # create the constuctor with parameters: accountNumber, name and balance \n",
    "    def __init__(self,accountNumber, name, balance):\n",
    "        self.accountNumber = accountNumber\n",
    "        self.name = name\n",
    "        self.balance = balance\n",
    "        \n",
    "    # create Deposit() method\n",
    "    def Deposit(self , d ):\n",
    "        self.balance = self.balance + d\n",
    "    \n",
    "    # create Withdrawal method\n",
    "    def Withdrawal(self , w):\n",
    "        if(self.balance < w):\n",
    "            print(\"impossible operation! Insufficient balance !\")\n",
    "        else:\n",
    "            self.balance = self.balance - w\n",
    "    # create bankFees() method\n",
    "    def bankFees(self):\n",
    "        self.balance = (95/100)*self.balance\n",
    "        \n",
    "    # create display() method\n",
    "    def display(self):\n",
    "        print(\"Account Number : \" , self.accountNumber)\n",
    "        print(\"Account Name : \" , self.name)\n",
    "        print(\"Account Balance : \" , self.balance , \" $\")\n",
    "        \n",
    "# Testing the code :\n",
    "newAccount = BankAccount(2178514584, \"Albert\" , 2700)\n",
    "# Creating Withdrawal Test\n",
    "newAccount.Withdrawal(300)\n",
    "# Create deposit test\n",
    "newAccount.Deposit(200)\n",
    "# Display account informations\n",
    "newAccount.display()"
   ]
  },
  {
   "cell_type": "markdown",
   "id": "de9d3a2e-9af1-4182-ab7e-900d599961a7",
   "metadata": {},
   "source": [
    "# 9. Discuss the advantages of encapsulation in terms of code maintainability and security.\n",
    "\n",
    "Advantages of Encapsulation in Python:\n",
    "\n",
    "Protects an object from unauthorized access\n",
    "\n",
    "Prevents other classes from using the private members defined within the class\n",
    "\n",
    "Prevents accidental data modification by using private and protected access levels \n",
    "\n",
    "Helps to enhance security by keeping the code/logic safe from external inheritance.\n",
    "\n",
    "Bundling data and methods within a class makes code more readable and maintainable"
   ]
  },
  {
   "cell_type": "code",
   "execution_count": 6,
   "id": "acdede2d-f56b-4997-a2de-a3ac3c44e02e",
   "metadata": {},
   "outputs": [
    {
     "name": "stdout",
     "output_type": "stream",
     "text": [
      "Santhosh\n"
     ]
    },
    {
     "ename": "AttributeError",
     "evalue": "'Student' object has no attribute '__name'",
     "output_type": "error",
     "traceback": [
      "\u001b[0;31m---------------------------------------------------------------------------\u001b[0m",
      "\u001b[0;31mAttributeError\u001b[0m                            Traceback (most recent call last)",
      "Cell \u001b[0;32mIn[6], line 18\u001b[0m\n\u001b[1;32m     15\u001b[0m s1\u001b[38;5;241m.\u001b[39mdisplayName() \n\u001b[1;32m     17\u001b[0m \u001b[38;5;66;03m# Raises an error \u001b[39;00m\n\u001b[0;32m---> 18\u001b[0m \u001b[38;5;28mprint\u001b[39m(\u001b[43ms1\u001b[49m\u001b[38;5;241;43m.\u001b[39;49m\u001b[43m__name\u001b[49m) \n",
      "\u001b[0;31mAttributeError\u001b[0m: 'Student' object has no attribute '__name'"
     ]
    }
   ],
   "source": [
    "# 10. How can you access private attributes in Python? Provide an example demonstrating the use of name mangling.\n",
    "\n",
    "# Python program to demonstrate \n",
    "# name mangling \n",
    "  \n",
    "  \n",
    "class Student: \n",
    "    def __init__(self, name): \n",
    "        self.__name = name \n",
    "  \n",
    "    def displayName(self): \n",
    "        print(self.__name) \n",
    "  \n",
    "s1 = Student(\"Santhosh\") \n",
    "s1.displayName() \n",
    "  \n",
    "# Raises an error \n",
    "print(s1.__name) "
   ]
  },
  {
   "cell_type": "code",
   "execution_count": 9,
   "id": "d38d2934-8ccd-4b3c-a408-3562bf89563f",
   "metadata": {},
   "outputs": [
    {
     "name": "stdout",
     "output_type": "stream",
     "text": [
      "Employee name : Jessa\n",
      "Working on project : NLP\n",
      "Project: NLP\n"
     ]
    }
   ],
   "source": [
    "# 11. Create a Python class hierarchy for a school system, including classes for students, teachers, and courses,\n",
    "# and implement encapsulation principles to protect sensitive information.\n",
    "\n",
    "class Company:\n",
    "    def __init__(self):\n",
    "        # Protected member\n",
    "        self._project = \"NLP\"\n",
    "\n",
    "# child class\n",
    "class Employee(Company):\n",
    "    def __init__(self, name):\n",
    "        self.name = name\n",
    "        Company.__init__(self)\n",
    "\n",
    "    def show(self):\n",
    "        print(\"Employee name :\", self.name)\n",
    "        # Accessing protected member in child class\n",
    "        print(\"Working on project :\", self._project)\n",
    "\n",
    "c = Employee(\"Jessa\")\n",
    "c.show()\n",
    "\n",
    "# Direct access protected data member\n",
    "print('Project:', c._project)"
   ]
  },
  {
   "cell_type": "markdown",
   "id": "d0484449-0637-4fba-b3ca-81c1de94f09f",
   "metadata": {},
   "source": [
    "# 12. Explain the concept of property decorators in Python and how they relate to encapsulation.\n",
    "\n",
    "@property decorator is a built-in decorator in Python which is helpful in defining the properties effortlessly without manually calling the inbuilt function property(). Which is used to return the property attributes of a class from the stated getter, setter and deleter as parameters. "
   ]
  },
  {
   "cell_type": "markdown",
   "id": "1cf7d5f5-a0b5-4309-bc2c-a4b0208cf122",
   "metadata": {},
   "source": [
    "# 13. What is data hiding, and why is it important in encapsulation? Provide examples.\n",
    "\n",
    "Data hiding is a concept which underlines the hiding of data or information from the user. It is one of the key aspects of Object-Oriented programming strategies. It includes object details such as data members, internal work. Data hiding excludes full data entry to class members and defends object integrity by preventing unintended changes. Data hiding also minimizes system complexity for increase robustness by limiting interdependencies between software requirements. Data hiding is also known as information hiding. In class, if we declare the data members as private so that no other class can access the data members, then it is a process of hiding data."
   ]
  },
  {
   "cell_type": "code",
   "execution_count": 10,
   "id": "2b052196-c69d-4f6d-bcb4-88281170b0f2",
   "metadata": {},
   "outputs": [
    {
     "name": "stdout",
     "output_type": "stream",
     "text": [
      "1\n",
      "2\n"
     ]
    },
    {
     "ename": "AttributeError",
     "evalue": "'Solution' object has no attribute '__privateCount'",
     "output_type": "error",
     "traceback": [
      "\u001b[0;31m---------------------------------------------------------------------------\u001b[0m",
      "\u001b[0;31mAttributeError\u001b[0m                            Traceback (most recent call last)",
      "Cell \u001b[0;32mIn[10], line 15\u001b[0m\n\u001b[1;32m     11\u001b[0m count\u001b[38;5;241m.\u001b[39msum()\n\u001b[1;32m     13\u001b[0m \u001b[38;5;66;03m# Here it will show error because it unable\u001b[39;00m\n\u001b[1;32m     14\u001b[0m \u001b[38;5;66;03m# to access private member\u001b[39;00m\n\u001b[0;32m---> 15\u001b[0m \u001b[38;5;28mprint\u001b[39m(\u001b[43mcount\u001b[49m\u001b[38;5;241;43m.\u001b[39;49m\u001b[43m__privateCount\u001b[49m)\n",
      "\u001b[0;31mAttributeError\u001b[0m: 'Solution' object has no attribute '__privateCount'"
     ]
    }
   ],
   "source": [
    "class Solution:\n",
    "    __privateCounter = 0\n",
    " \n",
    "    def sum(self):\n",
    "        self.__privateCounter += 1\n",
    "        print(self.__privateCounter)\n",
    " \n",
    " \n",
    "count = Solution()\n",
    "count.sum()\n",
    "count.sum()\n",
    " \n",
    "# Here it will show error because it unable\n",
    "# to access private member\n",
    "print(count.__privateCount)"
   ]
  },
  {
   "cell_type": "code",
   "execution_count": 11,
   "id": "3e9bd10e-f310-4410-9958-d3287eb1fe5c",
   "metadata": {},
   "outputs": [],
   "source": [
    "# 14. Create a Python class called `Employee` with private attributes for salary (`__salary`) and employee ID\n",
    "# (`__employee_id`). Provide a method to calculate yearly bonuses.\n",
    "\n",
    "def Add_Employ():\n",
    " \n",
    "    Id = input(\"Enter Employee Id : \")\n",
    " \n",
    "    # Checking if Employee with given Id\n",
    "    # Already Exist or Not\n",
    "    if(check_employee(Id) == True):\n",
    "        print(\"Employee already exists\\nTry Again\\n\")\n",
    "        menu()\n",
    "     \n",
    "    else:\n",
    "        Name = input(\"Enter Employee Name : \")\n",
    "        Post = input(\"Enter Employee Post : \")\n",
    "        Salary = input(\"Enter Employee Salary : \")\n",
    "        data = (Id, Name, Post, Salary)\n",
    " \n",
    "        # Inserting Employee details in the Employee \n",
    "        # Table\n",
    "        sql = 'insert into empd values(%s,%s,%s,%s)'\n",
    "        c = con.cursor()\n",
    " \n",
    "        # Executing the SQL Query\n",
    "        c.execute(sql, data)\n",
    " \n",
    "        # commit() method to make changes in the table\n",
    "        con.commit()\n",
    "        print(\"Employee Added Successfully \")\n",
    "        menu()"
   ]
  },
  {
   "cell_type": "markdown",
   "id": "a209ea9e-cbad-4ccc-9020-bb5b8ec5cf28",
   "metadata": {},
   "source": [
    "# 15. Discuss the use of accessors and mutators in encapsulation. How do they help maintain control over attribute access?\n",
    "\n",
    "The internal data of an object must be kept private. But there should be some methods in the class interface that can permit the user of an object to access and alter the data (that is stored internally) in a calm manner. Therefore, for that case we have two methods namely Accessors and Mutators that are helpful in accessing and altering respectively, internally stored data. "
   ]
  },
  {
   "cell_type": "markdown",
   "id": "ee728fa3-6a8a-4c45-8494-8e4c9bc0c82b",
   "metadata": {},
   "source": [
    "# 16. What are the potential drawbacks or disadvantages of using encapsulation in Python?\n",
    "\n",
    "\n",
    "Advantages of Encapsulation\n",
    "Data Protection: The program runner will not be able to identify or see which methods are present in the code. Therefore he/she doesn’t get any chance to change any specific variable or data and hinder the running of the program.\n",
    "\n",
    "Flexibility: The code which is encapsulated looks more cleaner and flexible, and can be changed as per the needs. We can change the code read-only or write-only by getter and setter methods. This also helps in debugging the code if needed.\n",
    "\n",
    "Reusability: The methods can be changed and the code is reusable.\n",
    "\n",
    "Disadvantages of Encapsulation\n",
    "Code Size:The length of the code increases drastically in the case of encapsulation as we need to provide all the methods with the specifiers.\n",
    "\n",
    "More Instructions: As the size of the code increases, therefore, you need to provide additional instructions for every method.\n",
    "\n",
    "Increased code execution: Encapsulation results in an increase in the duration of the program execution. It is because more instructions are added to the code therefore they require more time to execute."
   ]
  },
  {
   "cell_type": "code",
   "execution_count": 12,
   "id": "c941e89e-c151-4ee8-aa6e-de6b6d53d9ad",
   "metadata": {},
   "outputs": [],
   "source": [
    "# 17. Create a Python class for a library system that encapsulates book information, including titles, authors, and availability status.\n",
    "\n",
    "\n",
    "class Library:\n",
    "    \n",
    "    def __init__(self, books = None):\n",
    "        if books is None:\n",
    "            self.books = []\n",
    "        else:\n",
    "            self.books = books\n",
    "\n",
    "    def add_book(self, book):\n",
    "        self.books.append(book)\n",
    "        \n",
    "    def remove_book(self, book):\n",
    "        self.books.remove(book)\n",
    "        \n",
    "    def pages_over_n(self, number):\n",
    "        \"\"\"Returns books that have more than specified number of pages\"\"\"\n",
    "        return [book for book in self.books if book.pages > number]\n",
    "    \n",
    "    def get_library(self):\n",
    "        \"\"\"Returns all books in Library\"\"\"\n",
    "        return self.books\n",
    "    \n",
    "    def __repr__(self):\n",
    "        return f\"Library({self.books})\"\n",
    "    \n",
    "    def __str__(self):\n",
    "        return f\"Library has {len(self.books)}\"\n",
    "\n",
    "class Novel:\n",
    "    \n",
    "    def __init__(self, title, pages, publicationDate):\n",
    "        self.title = title\n",
    "        self.pages = pages\n",
    "        self.publicationDate = publicationDate\n",
    "        \n",
    "    def __repr__(self):\n",
    "        return f\"Novel({self.title}, {self.pages}, {self.publicationDate})\"\n",
    "    \n",
    "    def __str__(self):\n",
    "        return f\"Media: {self.title}\"\n",
    "    \n",
    "class ComicBook(Novel):\n",
    "    \n",
    "    def __init__(self, title, pages, publicationDate, artist):\n",
    "        super().__init__(title, pages, publicationDate)\n",
    "        self.artist = artist\n",
    "        \n",
    "    def get_artist(self):\n",
    "        return f\"Artist: {self.artist}\"\n",
    "        \n",
    "    def __repr__(self):\n",
    "        return (f\"ComicBook({self.title}, {self.pages}, \" \n",
    "                f\"{self.publicationDate}, {self.artist})\")\n",
    "    \n",
    "class ReadingList:\n",
    "    \n",
    "    def __init__(self):\n",
    "        self.list = []\n",
    "    \n",
    "    def add_book(self, book):\n",
    "        \"\"\"Add book to reading list\"\"\"\n",
    "        self.list.append(book)\n",
    "        \n",
    "    def remove_book(self, book):\n",
    "        \"\"\"Remove book from reading list\"\"\"\n",
    "        self.list.remove(book)\n",
    "\n",
    "    def total_pages(self):\n",
    "        \"\"\"Returns total pages in reading list\"\"\"\n",
    "        total = 0\n",
    "        for book in self.list:\n",
    "            total += book.pages\n",
    "        return total\n",
    "\n",
    "    def __repr__(self):\n",
    "        return f\"ReadingList({self.list})\"\n",
    "    \n",
    "    def __str__(self):\n",
    "        return f\"Reading list of size {len(self.list)}\"\n",
    "\n",
    "# Initialise Library\n",
    "library = Library()\n",
    "\n",
    "# Create a few books\n",
    "novel1 = Novel(\"Harry Potter\", 500, 1991)\n",
    "novel2 = Novel(\"LotR\", 1000, 1960)\n",
    "novel3 = Novel(\"Game of Thrones\", 2000, 2018)\n",
    "comic1 = ComicBook(\"Batman\", 100, 2020, \"Stan Lee\")\n",
    "\n",
    "# Add books to library.\n",
    "library.add_book(novel1)\n",
    "library.add_book(novel2)\n",
    "library.add_book(novel3)\n",
    "library.add_book(comic1)\n",
    "\n",
    "# Create a new reading list.\n",
    "readingListOne = ReadingList()\n",
    "\n",
    "# Add a couple of books to reading list.\n",
    "readingListOne.add_book(novel1)\n",
    "readingListOne.add_book(comic1)"
   ]
  },
  {
   "cell_type": "markdown",
   "id": "579e8498-a3a9-48d6-bdd4-b782e3cfa3ae",
   "metadata": {},
   "source": [
    "# 19. Describe the concept of information hiding in encapsulation. Why is it essential in software development?\n",
    "\n",
    "encapsulation and information hiding are essential principles in object-oriented programming, promoting code modularity, security, and maintainability. Encapsulation bundles data and methods within a class, while information hiding conceals the internal details of the class from external access. Together, these concepts enable developers to create robust and well-organized software systems, ensuring that changes to the internal implementation of classes do not affect other parts of the program. By providing clear interfaces for interaction and protecting sensitive data, encapsulation and information hiding enhance software design, reusability, and security, making them vital aspects of modern software development."
   ]
  },
  {
   "cell_type": "code",
   "execution_count": 14,
   "id": "d41957fe-99dd-44cf-bb56-d7404cacd57d",
   "metadata": {},
   "outputs": [],
   "source": [
    "# 20. Create a Python class called `Customer` with private attributes for customer details like name, address, and contact information. Implement encapsulation to ensure data integrity and security.\n",
    "\n",
    "class Person:\n",
    "    def __init__(self, name, address, telephone, email):\n",
    "        self.__name = name\n",
    "        self.__address = address\n",
    "        self.__telephone = telephone\n",
    "        self.__email = email\n",
    "\n",
    "    def set_name(self, name):\n",
    "        self.__name = name\n",
    "\n",
    "    def set_address(self, address):\n",
    "        self.__address = address\n",
    "\n",
    "    def set_telephone(self, telephone):\n",
    "        self.__telephone = telephone\n",
    "\n",
    "    def set_email(self, email):\n",
    "        self.__email = email\n",
    "\n",
    "    def get_name(self):\n",
    "        return self.__name\n",
    "\n",
    "    def get_address(self):\n",
    "        return self.__address\n",
    "\n",
    "    def get_telephone(self):\n",
    "        return self.__telephone\n",
    "\n",
    "    def get_email(self):\n",
    "        return self.__email"
   ]
  },
  {
   "cell_type": "code",
   "execution_count": null,
   "id": "df590e1b-2c43-46ae-a625-4c2340ae3f8f",
   "metadata": {},
   "outputs": [],
   "source": []
  },
  {
   "cell_type": "code",
   "execution_count": null,
   "id": "d6793aad-0a97-4027-8b7c-4ecb0baee783",
   "metadata": {},
   "outputs": [],
   "source": []
  },
  {
   "cell_type": "markdown",
   "id": "85c618fb-a57b-4eaf-94e1-13f8dd1ec93a",
   "metadata": {},
   "source": [
    "# Polymorphism:"
   ]
  },
  {
   "cell_type": "markdown",
   "id": "f19b5d54-3945-4a5f-ae7a-11fe6a82eeb0",
   "metadata": {},
   "source": [
    "# 1. What is polymorphism in Python? Explain how it is related to object-oriented programming.\n",
    "\n",
    "The word polymorphism means having many forms. In programming, polymorphism means the same function name (but different signatures) being used for different types. The key difference is the data types and number of arguments used in function."
   ]
  },
  {
   "cell_type": "markdown",
   "id": "4d2b17c6-94e8-47ac-a13e-6091398a8cf5",
   "metadata": {},
   "source": [
    "# 2. Describe the difference between compile-time polymorphism and runtime polymorphism in Python.\n",
    "\n",
    "# Compile Time Polymorphism:\n",
    "\n",
    "In Compile time Polymorphism, the call is resolved by the compiler.\n",
    "\n",
    "Method overloading is the compile-time polymorphism where more than one methods share the same name with different parameters or signature and different return type.\n",
    "\n",
    "It is achieved by function overloading and operator overloading.\n",
    "\n",
    "It provides fast execution because the method that needs to be executed is known early at the compile time.\n",
    "\n",
    "Compile time polymorphism is less flexible as all things execute at compile time.\n",
    "\n",
    "Inheritance is not involved. \n",
    "\n",
    "# Run time Polymorphism\n",
    "\n",
    "In Run time Polymorphism, the call is not resolved by the compiler.\n",
    "\n",
    "It is also known as Dynamic binding, Late binding and overriding as well.\n",
    "\n",
    "Method overriding is the runtime polymorphism having the same method with same parameters or signature but associated withcompared, different classes.\n",
    "\n",
    "It is achieved by virtual functions and pointers.\n",
    "\n",
    "It provides slow execution as compare to early binding because the method that needs to be executed is known at the runtime.\n",
    "\n",
    "Run time polymorphism is more flexible as all things execute at run time.\n",
    "\n",
    "Inheritance is involved.\n"
   ]
  },
  {
   "cell_type": "code",
   "execution_count": 15,
   "id": "c59b2594-4eb3-4bf8-9adf-a296ef1b9944",
   "metadata": {},
   "outputs": [
    {
     "name": "stdout",
     "output_type": "stream",
     "text": [
      "Radius of the circle: 7\n",
      "Circle Area: 153.93804002589985\n",
      "Circle Perimeter: 43.982297150257104\n",
      "\n",
      "Rectangle: Length = 5  Width = 7\n",
      "Rectangle Area: 35\n",
      "Rectangle Perimeter: 24\n",
      "\n",
      "Triangle: Base = 5  Height = 4  side1 = 4  side2 = 3  side3 = 5\n",
      "Triangle Area: 10.0\n",
      "Triangle Perimeter: 12\n"
     ]
    }
   ],
   "source": [
    "# 3. Create a Python class hierarchy for shapes (e.g., circle, square, triangle) and demonstrate polymorphism through a common method, such as `calculate_area()`.\n",
    "\n",
    "# Import the math module to access mathematical functions like pi\n",
    "import math\n",
    "\n",
    "# Define a base class called Shape to represent a generic shape with methods for calculating area and perimeter\n",
    "class Shape:\n",
    "    # Placeholder method for calculating area (to be implemented in derived classes)\n",
    "    def calculate_area(self):\n",
    "        pass\n",
    "\n",
    "    # Placeholder method for calculating perimeter (to be implemented in derived classes)\n",
    "    def calculate_perimeter(self):\n",
    "        pass\n",
    "\n",
    "# Define a derived class called Circle, which inherits from the Shape class\n",
    "class Circle(Shape):\n",
    "    # Initialize the Circle object with a given radius\n",
    "    def __init__(self, radius):\n",
    "        self.radius = radius\n",
    "\n",
    "    # Calculate and return the area of the circle using the formula: π * r^2\n",
    "    def calculate_area(self):\n",
    "        return math.pi * self.radius**2\n",
    "\n",
    "    # Calculate and return the perimeter of the circle using the formula: 2π * r\n",
    "    def calculate_perimeter(self):\n",
    "        return 2 * math.pi * self.radius\n",
    "\n",
    "# Define a derived class called Rectangle, which inherits from the Shape class\n",
    "class Rectangle(Shape):\n",
    "    # Initialize the Rectangle object with given length and width\n",
    "    def __init__(self, length, width):\n",
    "        self.length = length\n",
    "        self.width = width\n",
    "\n",
    "    # Calculate and return the area of the rectangle using the formula: length * width\n",
    "    def calculate_area(self):\n",
    "        return self.length * self.width\n",
    "\n",
    "    # Calculate and return the perimeter of the rectangle using the formula: 2 * (length + width)\n",
    "    def calculate_perimeter(self):\n",
    "        return 2 * (self.length + self.width)\n",
    "\n",
    "# Define a derived class called Triangle, which inherits from the Shape class\n",
    "class Triangle(Shape):\n",
    "    # Initialize the Triangle object with a base, height, and three side lengths\n",
    "    def __init__(self, base, height, side1, side2, side3):\n",
    "        self.base = base\n",
    "        self.height = height\n",
    "        self.side1 = side1\n",
    "        self.side2 = side2\n",
    "        self.side3 = side3\n",
    "\n",
    "    # Calculate and return the area of the triangle using the formula: 0.5 * base * height\n",
    "    def calculate_area(self):\n",
    "        return 0.5 * self.base * self.height\n",
    "\n",
    "    # Calculate and return the perimeter of the triangle by adding the lengths of its three sides\n",
    "    def calculate_perimeter(self):\n",
    "        return self.side1 + self.side2 + self.side3\n",
    "\n",
    "# Example usage\n",
    "# Create a Circle object with a given radius and calculate its area and perimeter\n",
    "r = 7\n",
    "circle = Circle(r)\n",
    "circle_area = circle.calculate_area()\n",
    "circle_perimeter = circle.calculate_perimeter()\n",
    "\n",
    "# Print the results for the Circle\n",
    "print(\"Radius of the circle:\", r)\n",
    "print(\"Circle Area:\", circle_area)\n",
    "print(\"Circle Perimeter:\", circle_perimeter)\n",
    "\n",
    "# Create a Rectangle object with given length and width and calculate its area and perimeter\n",
    "l = 5\n",
    "w = 7\n",
    "rectangle = Rectangle(l, w)\n",
    "rectangle_area = rectangle.calculate_area()\n",
    "rectangle_perimeter = rectangle.calculate_perimeter()\n",
    "\n",
    "# Print the results for the Rectangle\n",
    "print(\"\\nRectangle: Length =\", l, \" Width =\", w)\n",
    "print(\"Rectangle Area:\", rectangle_area)\n",
    "print(\"Rectangle Perimeter:\", rectangle_perimeter)\n",
    "\n",
    "# Create a Triangle object with a base, height, and three side lengths, and calculate its area and perimeter\n",
    "base = 5\n",
    "height = 4\n",
    "s1 = 4\n",
    "s2 = 3\n",
    "s3 = 5\n",
    "\n",
    "# Print the results for the Triangle\n",
    "print(\"\\nTriangle: Base =\", base, \" Height =\", height, \" side1 =\", s1, \" side2 =\", s2, \" side3 =\", s3)\n",
    "triangle = Triangle(base, height, s1, s2, s3)\n",
    "triangle_area = triangle.calculate_area()\n",
    "triangle_perimeter = triangle.calculate_perimeter()\n",
    "print(\"Triangle Area:\", triangle_area)\n",
    "print(\"Triangle Perimeter:\", triangle_perimeter)\n"
   ]
  },
  {
   "cell_type": "code",
   "execution_count": 16,
   "id": "fb85c6a4-b561-43fd-bd76-16021761ca43",
   "metadata": {},
   "outputs": [
    {
     "name": "stdout",
     "output_type": "stream",
     "text": [
      "Details: Audi R8 Price: 9000000\n",
      "Car max speed is 260\n",
      "Car has Automatic Transmission\n",
      "Details: Nissan Magnite Price: 550000\n",
      "Vehicle max speed is 160\n",
      "Vehicle has 6 shifter gearbox\n"
     ]
    }
   ],
   "source": [
    "# 4. Explain the concept of method overriding in polymorphism. Provide an example.\n",
    "\n",
    "#Polymorphism is most commonly associated with inheritance. In Python, child classes, like other programming languages, inherit methods and attributes from the parent class. Method Overriding is the process of redefining certain methods and attributes to fit the child class. This is especially handy when the method inherited from the parent class does not exactly fit the child class. In such circumstances, the method is re-implemented in the child class. Method Overriding refers to the technique of re-implementing a method in a child class.\n",
    "\n",
    "# examplee\n",
    "\n",
    "class Vehicle:\n",
    "    def __init__(self, brand, model, price):\n",
    "        self.brand = brand\n",
    "        self.model = model\n",
    "        self.price = price\n",
    "\n",
    "    def show(self):\n",
    "        print('Details:', self.brand, self.model, 'Price:', self.price)\n",
    "\n",
    "    def max_speed(self):\n",
    "        print('Vehicle max speed is 160')\n",
    "\n",
    "    def gear_system(self):\n",
    "        print('Vehicle has 6 shifter gearbox')\n",
    "\n",
    "# inherit from vehicle class\n",
    "class Car(Vehicle):\n",
    "    def max_speed(self):\n",
    "        print('Car max speed is 260')\n",
    "\n",
    "    def gear_system(self):\n",
    "        print('Car has Automatic Transmission')\n",
    "\n",
    "# Car Object\n",
    "car = Car('Audi', 'R8', 9000000)\n",
    "car.show()\n",
    "# call methods from Car class\n",
    "car.max_speed()\n",
    "car.gear_system()\n",
    "\n",
    "# Vehicle Object\n",
    "vehicle = Vehicle('Nissan', 'Magnite', 550000)\n",
    "vehicle.show()\n",
    "# call method from a Vehicle class\n",
    "vehicle.max_speed()\n",
    "vehicle.gear_system()"
   ]
  },
  {
   "cell_type": "code",
   "execution_count": 20,
   "id": "84b810b8-827a-4f0d-b9bd-ce74406bb524",
   "metadata": {},
   "outputs": [
    {
     "name": "stdout",
     "output_type": "stream",
     "text": [
      "50\n"
     ]
    }
   ],
   "source": [
    "# 5. How is polymorphism different from method overloading in Python? Provide examples for both.\n",
    "\n",
    "#Practical implementation of operator overloading \n",
    "\n",
    "class Vehicle:\n",
    "    def __init__(self, fare):\n",
    "        self.fare = fare\n",
    "    def __add__(self, other): #using the special function __add__ operator\n",
    "        return self.fare+ other.fare\n",
    "\n",
    "bus= Vehicle(20)\n",
    "car= Vehicle(30)\n",
    "total_fare=bus+ car\n",
    "print(total_fare)\n"
   ]
  },
  {
   "cell_type": "code",
   "execution_count": 23,
   "id": "80132b5b-4c60-4e0c-a8a2-81217ca558a9",
   "metadata": {},
   "outputs": [
    {
     "name": "stdout",
     "output_type": "stream",
     "text": [
      "I am Tim and I am 5 years old\n"
     ]
    }
   ],
   "source": [
    "# 6. Create a Python class called `Animal` with a method `speak()`. Then, create child classes like `Dog`, `Cat`,and `Bird`, each with their own `speak()` method. Demonstrate polymorphism by calling the `speak()` method on objects of different subclasses.\n",
    "\n",
    "class Animal():\n",
    "    def __init__(self, name, age) :\n",
    "        self.name = name\n",
    "        self.age = age \n",
    "\n",
    "    def speak(self) :\n",
    "        print(\"I am\", self.name, \"and I am\", self.age, \"years old\")\n",
    "\n",
    "\n",
    "class Dog(Animal) :\n",
    "    def __init__(self, name, age) :\n",
    "        self.name = name\n",
    "        self.age = age\n",
    "        self.type = \"dog\"\n",
    "\n",
    "    # Since we inherit from the animal class we can use the method speak on Dog objects\n",
    "\n",
    "\n",
    "tim = Dog(\"Tim\", 5)\n",
    "tim.speak()"
   ]
  },
  {
   "cell_type": "code",
   "execution_count": 24,
   "id": "cca65d70-ee36-4c00-abcd-ee4cbc58421f",
   "metadata": {},
   "outputs": [
    {
     "name": "stdout",
     "output_type": "stream",
     "text": [
      "I have 3 sides\n",
      "I have 4 sides\n",
      "I have 5 sides\n",
      "I have 6 sides\n"
     ]
    }
   ],
   "source": [
    "# 7. Discuss the use of abstract methods and classes in achieving polymorphism in Python. Provide an example using the `abc` module.\n",
    "\n",
    "#Abstract Base Classes in Python\n",
    "#By defining an abstract base class, you can define a common Application Program Interface(API) for a set of subclasses. This capability is especially useful in situations where a third party is going to provide implementations, such as with plugins, but can also help you when working in a large team or with a large code base where keeping all classes in your mind is difficult or not possible.\n",
    "\n",
    "# example :\n",
    "\n",
    "from abc import ABC, abstractmethod \n",
    "  \n",
    "  \n",
    "class Polygon(ABC): \n",
    "  \n",
    "    @abstractmethod\n",
    "    def noofsides(self): \n",
    "        pass\n",
    "  \n",
    "  \n",
    "class Triangle(Polygon): \n",
    "  \n",
    "    # overriding abstract method \n",
    "    def noofsides(self): \n",
    "        print(\"I have 3 sides\") \n",
    "  \n",
    "  \n",
    "class Pentagon(Polygon): \n",
    "  \n",
    "    # overriding abstract method \n",
    "    def noofsides(self): \n",
    "        print(\"I have 5 sides\") \n",
    "  \n",
    "  \n",
    "class Hexagon(Polygon): \n",
    "  \n",
    "    # overriding abstract method \n",
    "    def noofsides(self): \n",
    "        print(\"I have 6 sides\") \n",
    "  \n",
    "  \n",
    "class Quadrilateral(Polygon): \n",
    "  \n",
    "    # overriding abstract method \n",
    "    def noofsides(self): \n",
    "        print(\"I have 4 sides\") \n",
    "  \n",
    "  \n",
    "# Driver code \n",
    "R = Triangle() \n",
    "R.noofsides() \n",
    "  \n",
    "K = Quadrilateral() \n",
    "K.noofsides() \n",
    "  \n",
    "R = Pentagon() \n",
    "R.noofsides() \n",
    "  \n",
    "K = Hexagon() \n",
    "K.noofsides() "
   ]
  },
  {
   "cell_type": "code",
   "execution_count": 1,
   "id": "af55418a-9f0e-4b9f-895c-0c0d24339cf3",
   "metadata": {},
   "outputs": [
    {
     "name": "stdout",
     "output_type": "stream",
     "text": [
      "Drive!\n",
      "Sail!\n",
      "Fly!\n"
     ]
    }
   ],
   "source": [
    "# 8. Create a Python class hierarchy for a vehicle system (e.g., car, bicycle, boat) and implement a polymorphic `start()` method that prints a message specific to each vehicle type.\n",
    "\n",
    "class Car:\n",
    "  def __init__(self, brand, model):\n",
    "    self.brand = brand\n",
    "    self.model = model\n",
    "\n",
    "  def move(self):\n",
    "    print(\"Drive!\")\n",
    "\n",
    "class Boat:\n",
    "  def __init__(self, brand, model):\n",
    "    self.brand = brand\n",
    "    self.model = model\n",
    "\n",
    "  def move(self):\n",
    "    print(\"Sail!\")\n",
    "\n",
    "class Plane:\n",
    "  def __init__(self, brand, model):\n",
    "    self.brand = brand\n",
    "    self.model = model\n",
    "\n",
    "  def move(self):\n",
    "    print(\"Fly!\")\n",
    "\n",
    "car1 = Car(\"Ford\", \"Mustang\")       #Create a Car class\n",
    "boat1 = Boat(\"Ibiza\", \"Touring 20\") #Create a Boat class\n",
    "plane1 = Plane(\"Boeing\", \"747\")     #Create a Plane class\n",
    "\n",
    "for x in (car1, boat1, plane1):\n",
    "  x.move()"
   ]
  },
  {
   "cell_type": "markdown",
   "id": "b3f001a1-8421-4dd9-bd7e-bfaabcf4220c",
   "metadata": {},
   "source": [
    "# 9. Explain the significance of the `isinstance()` and `issubclass()` functions in Python polymorphism.\n",
    "\n",
    "issubclass () is a function that works on the concept of inheritance. Python is an object-oriented language, in which, every entity that is defined in Python is treated as an object. The concept of inheritance is one of the most essential concepts in object-oriented programming. Inheritance refers to the ability of one class in a program to derive the properties that are attributed to any other class in the program. \n",
    "\n",
    "Through inheritance, the code written can be reused, thereby increasing the functionality of the program. Through inheritance, one can add other features to a class without changing its attributes as well.  The Python issubclass () is a built-in function that is used to check whether a class is the subclass of another class in the program or not. \n",
    "\n",
    "\n",
    "\n",
    "\n",
    "# issubclass()\n",
    "class Vehicles:\n",
    " \n",
    "    # Constructor\n",
    "    def __init__(vehicleType):\n",
    "        print('Vehicles is a ', vehicleType)\n",
    "\n",
    "class Car(Vehicles):\n",
    " \n",
    "    # Constructor\n",
    "    def __init__(self):\n",
    "        Vehicles.__init__('Car')\n",
    "  \n",
    "print(issubclass(Car, Vehicles))\n",
    "\n",
    "print(issubclass(Car, list))\n",
    "\n",
    "print(issubclass(Car, Car))\n",
    "\n",
    "print(issubclass(Car, (list, Vehicles)))\n",
    "\n",
    "\n"
   ]
  },
  {
   "cell_type": "code",
   "execution_count": 2,
   "id": "6c0e652d-dae4-4be9-92ea-e2c5b48b9383",
   "metadata": {},
   "outputs": [
    {
     "name": "stdout",
     "output_type": "stream",
     "text": [
      "I have 3 sides\n",
      "I have 4 sides\n",
      "I have 5 sides\n",
      "I have 6 sides\n"
     ]
    }
   ],
   "source": [
    "# 10. What is the role of the `@abstractmethod` decorator in achieving polymorphism in Python? Provide an example.\n",
    "\n",
    "# ABC works by decorating methods of the base class as an abstract and then registering concrete classes as implementations of the abstract base. A method becomes abstract when decorated with the keyword @abstractmethod.\n",
    "\n",
    "from abc import ABC, abstractmethod \n",
    "  \n",
    "  \n",
    "class Polygon(ABC): \n",
    "  \n",
    "    @abstractmethod\n",
    "    def noofsides(self): \n",
    "        pass\n",
    "  \n",
    "  \n",
    "class Triangle(Polygon): \n",
    "  \n",
    "    # overriding abstract method \n",
    "    def noofsides(self): \n",
    "        print(\"I have 3 sides\") \n",
    "  \n",
    "  \n",
    "class Pentagon(Polygon): \n",
    "  \n",
    "    # overriding abstract method \n",
    "    def noofsides(self): \n",
    "        print(\"I have 5 sides\") \n",
    "  \n",
    "  \n",
    "class Hexagon(Polygon): \n",
    "  \n",
    "    # overriding abstract method \n",
    "    def noofsides(self): \n",
    "        print(\"I have 6 sides\") \n",
    "  \n",
    "  \n",
    "class Quadrilateral(Polygon): \n",
    "  \n",
    "    # overriding abstract method \n",
    "    def noofsides(self): \n",
    "        print(\"I have 4 sides\") \n",
    "  \n",
    "  \n",
    "# Driver code \n",
    "R = Triangle() \n",
    "R.noofsides() \n",
    "  \n",
    "K = Quadrilateral() \n",
    "K.noofsides() \n",
    "  \n",
    "R = Pentagon() \n",
    "R.noofsides() \n",
    "  \n",
    "K = Hexagon() \n",
    "K.noofsides() "
   ]
  },
  {
   "cell_type": "code",
   "execution_count": 8,
   "id": "6cc082da-b68e-490f-9534-b0674ec1cb55",
   "metadata": {},
   "outputs": [
    {
     "name": "stdout",
     "output_type": "stream",
     "text": [
      "Radius of the circle: 7\n",
      "Circle Area: 153.93804002589985\n",
      "Circle Perimeter: 43.982297150257104\n",
      "\n",
      "Rectangle: Length = 5  Width = 7\n",
      "Rectangle Area: 35\n",
      "Rectangle Perimeter: 24\n",
      "\n",
      "Triangle: Base = 5  Height = 4  side1 = 4  side2 = 3  side3 = 5\n",
      "Triangle Area: 10.0\n",
      "Triangle Perimeter: 12\n"
     ]
    }
   ],
   "source": [
    "# 11. Create a Python class called `Shape` with a polymorphic method `area()` that calculates the area of different shapes (e.g., circle, rectangle, triangle).\n",
    "\n",
    "import math\n",
    "\n",
    "# Define a base class called Shape to represent a generic shape with methods for calculating area and perimeter\n",
    "class Shape:\n",
    "    # Placeholder method for calculating area (to be implemented in derived classes)\n",
    "    def calculate_area(self):\n",
    "        pass\n",
    "\n",
    "    # Placeholder method for calculating perimeter (to be implemented in derived classes)\n",
    "    def calculate_perimeter(self):\n",
    "        pass\n",
    "\n",
    "# Define a derived class called Circle, which inherits from the Shape class\n",
    "class Circle(Shape):\n",
    "    # Initialize the Circle object with a given radius\n",
    "    def __init__(self, radius):\n",
    "        self.radius = radius\n",
    "\n",
    "    # Calculate and return the area of the circle using the formula: π * r^2\n",
    "    def calculate_area(self):\n",
    "        return math.pi * self.radius**2\n",
    "\n",
    "    # Calculate and return the perimeter of the circle using the formula: 2π * r\n",
    "    def calculate_perimeter(self):\n",
    "        return 2 * math.pi * self.radius\n",
    "\n",
    "# Define a derived class called Rectangle, which inherits from the Shape class\n",
    "class Rectangle(Shape):\n",
    "    # Initialize the Rectangle object with given length and width\n",
    "    def __init__(self, length, width):\n",
    "        self.length = length\n",
    "        self.width = width\n",
    "\n",
    "    # Calculate and return the area of the rectangle using the formula: length * width\n",
    "    def calculate_area(self):\n",
    "        return self.length * self.width\n",
    "\n",
    "    # Calculate and return the perimeter of the rectangle using the formula: 2 * (length + width)\n",
    "    def calculate_perimeter(self):\n",
    "        return 2 * (self.length + self.width)\n",
    "\n",
    "# Define a derived class called Triangle, which inherits from the Shape class\n",
    "class Triangle(Shape):\n",
    "    # Initialize the Triangle object with a base, height, and three side lengths\n",
    "    def __init__(self, base, height, side1, side2, side3):\n",
    "        self.base = base\n",
    "        self.height = height\n",
    "        self.side1 = side1\n",
    "        self.side2 = side2\n",
    "        self.side3 = side3\n",
    "\n",
    "    # Calculate and return the area of the triangle using the formula: 0.5 * base * height\n",
    "    def calculate_area(self):\n",
    "        return 0.5 * self.base * self.height\n",
    "\n",
    "    # Calculate and return the perimeter of the triangle by adding the lengths of its three sides\n",
    "    def calculate_perimeter(self):\n",
    "        return self.side1 + self.side2 + self.side3\n",
    "\n",
    "# Example usage\n",
    "# Create a Circle object with a given radius and calculate its area and perimeter\n",
    "r = 7\n",
    "circle = Circle(r)\n",
    "circle_area = circle.calculate_area()\n",
    "circle_perimeter = circle.calculate_perimeter()\n",
    "\n",
    "# Print the results for the Circle\n",
    "print(\"Radius of the circle:\", r)\n",
    "print(\"Circle Area:\", circle_area)\n",
    "print(\"Circle Perimeter:\", circle_perimeter)\n",
    "\n",
    "# Create a Rectangle object with given length and width and calculate its area and perimeter\n",
    "l = 5\n",
    "w = 7\n",
    "rectangle = Rectangle(l, w)\n",
    "rectangle_area = rectangle.calculate_area()\n",
    "rectangle_perimeter = rectangle.calculate_perimeter()\n",
    "\n",
    "# Print the results for the Rectangle\n",
    "print(\"\\nRectangle: Length =\", l, \" Width =\", w)\n",
    "print(\"Rectangle Area:\", rectangle_area)\n",
    "print(\"Rectangle Perimeter:\", rectangle_perimeter)\n",
    "\n",
    "# Create a Triangle object with a base, height, and three side lengths, and calculate its area and perimeter\n",
    "base = 5\n",
    "height = 4\n",
    "s1 = 4\n",
    "s2 = 3\n",
    "s3 = 5\n",
    "\n",
    "# Print the results for the Triangle\n",
    "print(\"\\nTriangle: Base =\", base, \" Height =\", height, \" side1 =\", s1, \" side2 =\", s2, \" side3 =\", s3)\n",
    "triangle = Triangle(base, height, s1, s2, s3)\n",
    "triangle_area = triangle.calculate_area()\n",
    "triangle_perimeter = triangle.calculate_perimeter()\n",
    "print(\"Triangle Area:\", triangle_area)\n",
    "print(\"Triangle Perimeter:\", triangle_perimeter)"
   ]
  },
  {
   "cell_type": "markdown",
   "id": "f805fd39-58d9-4141-a20d-c93be3ab831f",
   "metadata": {},
   "source": [
    "# 12. Discuss the benefits of polymorphism in terms of code reusability and flexibility in Python programs.\n",
    "\n",
    "Advantages of Polymorphism\n",
    "\n",
    "Programmers can benefit from polymorphism’s code reuse, flexibility, extensibility, and simpler debugging.\n",
    "\n",
    "A. Code Reusability\n",
    "\n",
    "By enabling programmers to reuse the same code for various data types, polymorphism encourages code reuse. As a result, less code needs to be written and code maintenance is made simpler over time.\n",
    "\n",
    "B. Flexibility\n",
    "\n",
    "Code can be more flexible thanks to polymorphism, which enables objects and functions to take on different forms. Because of this, it is simpler to write code that works with various data types, enabling developers to produce more adaptable and reusable software.\n",
    "\n",
    "C. Extensibility\n",
    "\n",
    "Polymorphism makes it easier to extend existing code by allowing developers to modify the behavior of existing functions and objects without modifying the original code. This makes it easier to add new features and functionality to existing software.\n",
    "\n",
    "D. Easier Debugging\n",
    "\n",
    "By encouraging modularity in the code and minimizing duplication, polymorphism can facilitate debugging. Bugs are simpler to find and address when code is written in a modular manner, and the likelihood of bugs being introduced in the first place is decreased by cutting down on code duplication."
   ]
  },
  {
   "cell_type": "markdown",
   "id": "62d9e58b-6be3-4c49-99b2-0502be543208",
   "metadata": {},
   "source": [
    "# 13. Explain the use of the `super()` function in Python polymorphism. How does it help call methods of parent classes?\n",
    "\n",
    "In Python, the super() function is used to refer to the parent class or superclass. It allows you to call methods defined in the superclass from the subclass, enabling you to extend and customize the functionality inherited from the parent class.\n",
    "\n",
    "super() function in Python Example\n",
    "\n",
    "In the given example, The Emp class has an __init__ method that initializes the id, and name and Adds attributes. The Freelance class inherits from the Emp class and adds an additional attribute called Emails. It calls the parent class’s __init__ method super() to initialize the inherited attribute."
   ]
  },
  {
   "cell_type": "code",
   "execution_count": 9,
   "id": "dd4bd820-6fc8-4b7d-ae02-58368a29cf2d",
   "metadata": {},
   "outputs": [
    {
     "name": "stdout",
     "output_type": "stream",
     "text": [
      "Hello!!! Welcome to the Deposit & Withdrawal Machine\n"
     ]
    },
    {
     "name": "stdin",
     "output_type": "stream",
     "text": [
      "Enter amount to be Deposited:  50000\n"
     ]
    },
    {
     "name": "stdout",
     "output_type": "stream",
     "text": [
      "\n",
      " Amount Deposited: 50000.0\n"
     ]
    },
    {
     "name": "stdin",
     "output_type": "stream",
     "text": [
      "Enter amount to be Withdrawn:  200\n"
     ]
    },
    {
     "name": "stdout",
     "output_type": "stream",
     "text": [
      "\n",
      " You Withdrew: 200.0\n",
      "\n",
      " Net Available Balance= 49800.0\n"
     ]
    }
   ],
   "source": [
    "# 14. Create a Python class hierarchy for a banking system with various account types (e.g., savings, checking,\n",
    "# credit card) and demonstrate polymorphism by implementing a common `withdraw()` method.\n",
    "\n",
    "class Bank_Account:\n",
    "    def __init__(self):\n",
    "        self.balance=0\n",
    "        print(\"Hello!!! Welcome to the Deposit & Withdrawal Machine\")\n",
    " \n",
    "    def deposit(self):\n",
    "        amount=float(input(\"Enter amount to be Deposited: \"))\n",
    "        self.balance += amount\n",
    "        print(\"\\n Amount Deposited:\",amount)\n",
    " \n",
    "    def withdraw(self):\n",
    "        amount = float(input(\"Enter amount to be Withdrawn: \"))\n",
    "        if self.balance>=amount:\n",
    "            self.balance-=amount\n",
    "            print(\"\\n You Withdrew:\", amount)\n",
    "        else:\n",
    "            print(\"\\n Insufficient balance  \")\n",
    " \n",
    "    def display(self):\n",
    "        print(\"\\n Net Available Balance=\",self.balance)\n",
    " \n",
    "# Driver code\n",
    "  \n",
    "# creating an object of class\n",
    "s = Bank_Account()\n",
    "  \n",
    "# Calling functions with that class object\n",
    "s.deposit()\n",
    "s.withdraw()\n",
    "s.display()"
   ]
  },
  {
   "cell_type": "code",
   "execution_count": 11,
   "id": "a2466b34-9c42-4d96-8d4e-224556f19796",
   "metadata": {},
   "outputs": [
    {
     "name": "stdout",
     "output_type": "stream",
     "text": [
      "3\n",
      "Pw Skillsis\n",
      "12\n",
      "GreatGreatGreatGreat\n"
     ]
    }
   ],
   "source": [
    "# 15. Describe the concept of operator overloading in Python and how it relates to polymorphism. Provid examples using operators like `+` and `*`.\n",
    "\n",
    "print(1 + 2)\n",
    " \n",
    "# concatenate two strings\n",
    "print(\"Pw Skills\"+\"is\") \n",
    " \n",
    "# Product two numbers\n",
    "print(3 * 4)\n",
    " \n",
    "# Repeat the String\n",
    "print(\"Great\"*4)"
   ]
  },
  {
   "cell_type": "markdown",
   "id": "ed569716-f3fa-4b63-9111-4f3f4132aadb",
   "metadata": {},
   "source": [
    "# 16. What is dynamic polymorphism, and how is it achieved in Python?\n",
    "\n",
    "Dynamic polymorphism in Java refers to the process when a call to an overridden process is resolved at the run time. The reference variable of a superclass calls the overridden method. As the name dynamic connotes, dynamic polymorphism happens among different classes as opposed to static polymorphism. "
   ]
  },
  {
   "cell_type": "code",
   "execution_count": null,
   "id": "e875e577-9b79-4d3b-9ffb-3ab7b39428db",
   "metadata": {},
   "outputs": [
    {
     "name": "stdout",
     "output_type": "stream",
     "text": [
      "Enter the empid :: "
     ]
    },
    {
     "name": "stdin",
     "output_type": "stream",
     "text": [
      " 22\n"
     ]
    },
    {
     "name": "stdout",
     "output_type": "stream",
     "text": [
      "Enter the name :: "
     ]
    },
    {
     "name": "stdin",
     "output_type": "stream",
     "text": [
      " hbjh\n"
     ]
    },
    {
     "name": "stdout",
     "output_type": "stream",
     "text": [
      "Enter the salary :: "
     ]
    },
    {
     "name": "stdin",
     "output_type": "stream",
     "text": [
      " 26\n"
     ]
    },
    {
     "name": "stdout",
     "output_type": "stream",
     "text": [
      "Enter the empid :: "
     ]
    },
    {
     "name": "stdin",
     "output_type": "stream",
     "text": [
      " 6+6\n"
     ]
    },
    {
     "name": "stdout",
     "output_type": "stream",
     "text": [
      "Enter the name :: "
     ]
    },
    {
     "name": "stdin",
     "output_type": "stream",
     "text": [
      " dsfsd\n"
     ]
    },
    {
     "name": "stdout",
     "output_type": "stream",
     "text": [
      "Enter the salary :: "
     ]
    },
    {
     "name": "stdin",
     "output_type": "stream",
     "text": [
      " sdds\n"
     ]
    },
    {
     "name": "stdout",
     "output_type": "stream",
     "text": [
      "Enter the empid :: "
     ]
    },
    {
     "name": "stdin",
     "output_type": "stream",
     "text": [
      " dsfds\n"
     ]
    },
    {
     "name": "stdout",
     "output_type": "stream",
     "text": [
      "Enter the name :: "
     ]
    },
    {
     "name": "stdin",
     "output_type": "stream",
     "text": [
      " ds\n"
     ]
    },
    {
     "name": "stdout",
     "output_type": "stream",
     "text": [
      "Enter the salary :: "
     ]
    },
    {
     "name": "stdin",
     "output_type": "stream",
     "text": [
      " sd\n"
     ]
    },
    {
     "name": "stdout",
     "output_type": "stream",
     "text": [
      "**** Data Entered as below ****\n",
      "Employee id = 22\n",
      "Employee name = hbjh\n",
      "Employee salary = 26\n",
      "Employee id = 6+6\n",
      "Employee name = dsfsd\n",
      "Employee salary = sdds\n",
      "Employee id = dsfds\n",
      "Employee name = ds\n",
      "Employee salary = sd\n"
     ]
    }
   ],
   "source": [
    "# 17. Create a Python class hierarchy for employees in a company (e.g., manager, developer, designer) and implement polymorphism through a common `calculate_salary()` method.\n",
    "\n",
    "class Employee :\n",
    "    empid = 0\n",
    "    name = None\n",
    "    salary = 0.0\n",
    "    def getInput(self) :\n",
    "        print(\"Enter the empid :: \", end =\"\")\n",
    "        self.empid = input()\n",
    "        print(\"Enter the name :: \", end =\"\")\n",
    "        self.name = input()\n",
    "        print(\"Enter the salary :: \", end =\"\")\n",
    "        self.salary = input()\n",
    "    def display(self) :\n",
    "        print(\"Employee id = \" + str(self.empid))\n",
    "        print(\"Employee name = \" + self.name)\n",
    "        print(\"Employee salary = \" + str(self.salary))\n",
    "    def main( args) :\n",
    "        e = [None] * (3)\n",
    "        i = 0\n",
    "        while (i < 3) :\n",
    "            e[i] = Employee()\n",
    "            e[i].getInput()\n",
    "            i += 1\n",
    "        print(\"**** Data Entered as below ****\")\n",
    "        i = 0\n",
    "        while (i < 3) :\n",
    "            e[i].display()\n",
    "            i += 1\n",
    "     \n",
    "if __name__==\"__main__\":\n",
    "    Employee.main([])"
   ]
  },
  {
   "cell_type": "markdown",
   "id": "abf63f47-9cfc-4037-bf23-81b88a85b23a",
   "metadata": {},
   "source": [
    "# 18. Discuss the concept of function pointers and how they can be used to achieve polymorphism in Python.\n",
    "\n",
    "Function pointers are building blocks for the implementation of polymorphism in C++ and allow us to extend our existing logic. In this section, we are going to cover them and prepare you for more advanced topics we'll cover over the coming chapters."
   ]
  },
  {
   "cell_type": "markdown",
   "id": "5a6f2e7c-dcf3-45a7-9a3b-f7d36e671889",
   "metadata": {},
   "source": [
    "# 19. Explain the role of interfaces and abstract classes in polymorphism, drawing comparisons between them.\n",
    "\n",
    "Abstract class and interface are both used to define contracts in object-oriented programming, but there are some key differences between them.\n",
    "\n",
    "Difference between abstract class and interface:-\n",
    "\n",
    "Definition: An abstract class is a class that cannot be instantiated and can contain both abstract and non-abstract methods. An interface, on the other hand, is a contract that specifies a set of methods that a class must implement.\n",
    "\n",
    "Method implementation: In an abstract class, some methods can be implemented, while others are left abstract, meaning that they have no implementation and must be overridden by concrete subclasses. In contrast, all methods in an interface are by default abstract and must be implemented by any class that implements the interface.\n",
    "\n",
    "Interface: \n",
    "Features of interface:\n",
    "\n",
    "Defines a set of methods and properties: An interface defines a set of methods and properties that must be implemented by any class or structure that implements the interface.\n",
    "\n",
    "Provides a common protocol: Interfaces provide a common protocol that allows different software components to communicate with each other.\n",
    "Supports polymorphism: An interface can be used to achieve polymorphism, which means that objects of different classes can be treated as if they belong to the same type, as long as they implement the same interface.\n",
    "\n",
    "Enables separation of concerns: Interfaces enable separation of concerns, which means that different parts of a software system can be developed independently of each other, as long as they adhere to the interface specifications.\n",
    "\n",
    "Improves code reusability: Interfaces improve code reusability by allowing different software components to reuse the same code base, as long as they implement the same interface.\n",
    "\n",
    "Enforces design patterns: Interfaces can be used to enforce design patterns, such as the Adapter pattern, by requiring that certain methods or properties be implemented by the implementing classes.\n",
    "\n",
    "Facilitates testing: Interfaces facilitate testing by allowing software components to be tested independently of each other, using mock objects that implement the interface."
   ]
  },
  {
   "cell_type": "code",
   "execution_count": 32,
   "id": "655d724e-07e6-49bb-a0e3-f099db984be9",
   "metadata": {},
   "outputs": [],
   "source": [
    "# 20. Create a Python class for a zoo simulation, demonstrating polymorphism with different animal types (e.g.,mammals, birds, reptiles) and their behavior (e.g., eating, sleeping, making sounds).\n",
    "\n",
    "class Animal:\n",
    "   species = \"wild animal\"\n",
    "   def __init__(self, name, color):\n",
    "    self.name = name\n",
    "    self.color = color\n",
    "    tiger = Animal (\"Tiger\",\"White\")\n",
    "    lion= Animal(\"Lion\",\"Yellow\")\n",
    "    print(\"Tiger is a {} \".format(tiger.__class__.species))\n",
    "    print(\"Lion is a {} \".format(lion.__class__.species))\n",
    "    print(\"{} is {} in color \".format(tiger.name,tiger.color))\n",
    "    print(\"{} is {} in color \".format(lion.name,lion.color))"
   ]
  },
  {
   "cell_type": "code",
   "execution_count": null,
   "id": "62369f5a-10b2-4f1b-9f97-adde7cc84355",
   "metadata": {},
   "outputs": [],
   "source": []
  },
  {
   "cell_type": "code",
   "execution_count": null,
   "id": "196dc649-c023-4e0b-85a5-db5259019615",
   "metadata": {},
   "outputs": [],
   "source": []
  },
  {
   "cell_type": "markdown",
   "id": "4ba69631-1153-47a5-a3cb-6ea314343e1b",
   "metadata": {},
   "source": [
    "# Abstraction:"
   ]
  },
  {
   "cell_type": "markdown",
   "id": "769d29dd-8a0d-4d8f-b9b5-7685399b4bde",
   "metadata": {},
   "source": [
    "# 1. What is abstraction in Python, and how does it relate to object-oriented programming?\n",
    "\n",
    "Abstraction in python is defined as a process of handling complexity by hiding unnecessary information from the user. This is one of the core concepts of object-oriented programming (OOP) languages. \n",
    "\n",
    "That enables the user to implement even more complex logic on top of the provided abstraction without understanding or even thinking about all the hidden background/back-end complexity.\n",
    "\n",
    "Abstraction provides a programmer to hide all the irrelevant data/process of an application in order to reduce complexity and increase the efficiency of the program. Now, we can start learning how we can achieve abstraction using the Python program.\n",
    "\n"
   ]
  },
  {
   "cell_type": "markdown",
   "id": "a26770d8-c3d0-4cc7-9cb8-0544545ee8f5",
   "metadata": {},
   "source": [
    "# 2. Describe the benefits of abstraction in terms of code organization and complexity reduction.\n",
    "\n",
    "Advantages of Abstraction :\n",
    "\n",
    "It reduces the complexity of viewing the things.\n",
    "\n",
    "Helps to increase security of an application or program as only important details are provided to the user.\n",
    "\n",
    "Avoids code duplication and increases reusability.\n",
    "\n",
    "Can change internal implementation of class independently without affecting the user."
   ]
  },
  {
   "cell_type": "code",
   "execution_count": 1,
   "id": "f98a4f25-2d4b-44ba-8769-7b3fdff994b1",
   "metadata": {},
   "outputs": [
    {
     "name": "stdout",
     "output_type": "stream",
     "text": [
      "Radius of the circle: 7\n",
      "Circle Area: 153.93804002589985\n",
      "Circle Perimeter: 43.982297150257104\n",
      "\n",
      "Rectangle: Length = 5  Width = 7\n",
      "Rectangle Area: 35\n",
      "Rectangle Perimeter: 24\n",
      "\n",
      "Triangle: Base = 5  Height = 4  side1 = 4  side2 = 3  side3 = 5\n",
      "Triangle Area: 10.0\n",
      "Triangle Perimeter: 12\n"
     ]
    }
   ],
   "source": [
    "# 3. Create a Python class called `Shape` with an abstract method `calculate_area()`. Then, create childclasses (e.g., `Circle`, `Rectangle`) that implement the `calculate_area()` method. Provide an example of using these classes.\n",
    "\n",
    "# Import the math module to access mathematical functions like pi\n",
    "import math\n",
    "\n",
    "# Define a base class called Shape to represent a generic shape with methods for calculating area and perimeter\n",
    "class Shape:\n",
    "    # Placeholder method for calculating area (to be implemented in derived classes)\n",
    "    def calculate_area(self):\n",
    "        pass\n",
    "\n",
    "    # Placeholder method for calculating perimeter (to be implemented in derived classes)\n",
    "    def calculate_perimeter(self):\n",
    "        pass\n",
    "\n",
    "# Define a derived class called Circle, which inherits from the Shape class\n",
    "class Circle(Shape):\n",
    "    # Initialize the Circle object with a given radius\n",
    "    def __init__(self, radius):\n",
    "        self.radius = radius\n",
    "\n",
    "    # Calculate and return the area of the circle using the formula: π * r^2\n",
    "    def calculate_area(self):\n",
    "        return math.pi * self.radius**2\n",
    "\n",
    "    # Calculate and return the perimeter of the circle using the formula: 2π * r\n",
    "    def calculate_perimeter(self):\n",
    "        return 2 * math.pi * self.radius\n",
    "\n",
    "# Define a derived class called Rectangle, which inherits from the Shape class\n",
    "class Rectangle(Shape):\n",
    "    # Initialize the Rectangle object with given length and width\n",
    "    def __init__(self, length, width):\n",
    "        self.length = length\n",
    "        self.width = width\n",
    "\n",
    "    # Calculate and return the area of the rectangle using the formula: length * width\n",
    "    def calculate_area(self):\n",
    "        return self.length * self.width\n",
    "\n",
    "    # Calculate and return the perimeter of the rectangle using the formula: 2 * (length + width)\n",
    "    def calculate_perimeter(self):\n",
    "        return 2 * (self.length + self.width)\n",
    "\n",
    "# Define a derived class called Triangle, which inherits from the Shape class\n",
    "class Triangle(Shape):\n",
    "    # Initialize the Triangle object with a base, height, and three side lengths\n",
    "    def __init__(self, base, height, side1, side2, side3):\n",
    "        self.base = base\n",
    "        self.height = height\n",
    "        self.side1 = side1\n",
    "        self.side2 = side2\n",
    "        self.side3 = side3\n",
    "\n",
    "    # Calculate and return the area of the triangle using the formula: 0.5 * base * height\n",
    "    def calculate_area(self):\n",
    "        return 0.5 * self.base * self.height\n",
    "\n",
    "    # Calculate and return the perimeter of the triangle by adding the lengths of its three sides\n",
    "    def calculate_perimeter(self):\n",
    "        return self.side1 + self.side2 + self.side3\n",
    "\n",
    "# Example usage\n",
    "# Create a Circle object with a given radius and calculate its area and perimeter\n",
    "r = 7\n",
    "circle = Circle(r)\n",
    "circle_area = circle.calculate_area()\n",
    "circle_perimeter = circle.calculate_perimeter()\n",
    "\n",
    "# Print the results for the Circle\n",
    "print(\"Radius of the circle:\", r)\n",
    "print(\"Circle Area:\", circle_area)\n",
    "print(\"Circle Perimeter:\", circle_perimeter)\n",
    "\n",
    "# Create a Rectangle object with given length and width and calculate its area and perimeter\n",
    "l = 5\n",
    "w = 7\n",
    "rectangle = Rectangle(l, w)\n",
    "rectangle_area = rectangle.calculate_area()\n",
    "rectangle_perimeter = rectangle.calculate_perimeter()\n",
    "\n",
    "# Print the results for the Rectangle\n",
    "print(\"\\nRectangle: Length =\", l, \" Width =\", w)\n",
    "print(\"Rectangle Area:\", rectangle_area)\n",
    "print(\"Rectangle Perimeter:\", rectangle_perimeter)\n",
    "\n",
    "# Create a Triangle object with a base, height, and three side lengths, and calculate its area and perimeter\n",
    "base = 5\n",
    "height = 4\n",
    "s1 = 4\n",
    "s2 = 3\n",
    "s3 = 5\n",
    "\n",
    "# Print the results for the Triangle\n",
    "print(\"\\nTriangle: Base =\", base, \" Height =\", height, \" side1 =\", s1, \" side2 =\", s2, \" side3 =\", s3)\n",
    "triangle = Triangle(base, height, s1, s2, s3)\n",
    "triangle_area = triangle.calculate_area()\n",
    "triangle_perimeter = triangle.calculate_perimeter()\n",
    "print(\"Triangle Area:\", triangle_area)\n",
    "print(\"Triangle Perimeter:\", triangle_perimeter)\n",
    "\n",
    "\n"
   ]
  },
  {
   "cell_type": "markdown",
   "id": "460230ee-ff49-4986-b5d6-2c8b5dcdfd1c",
   "metadata": {},
   "source": [
    "# 4. Explain the concept of abstract classes in Python and how they are defined using the `abc` module. Provide an example.\n",
    "\n",
    "An abstract class can be considered a blueprint for other classes. It allows you to create a set of methods that must be created within any child classes built from the abstract class.\n",
    "\n",
    "A class that contains one or more abstract methods is called an abstract class. An abstract method is a method that has a declaration but does not have an implementation.\n",
    "\n",
    "We use an abstract class while we are designing large functional units or when we want to provide a common interface for different implementations of a component. "
   ]
  },
  {
   "cell_type": "markdown",
   "id": "334cb493-1d6e-497c-a659-71f316c8355b",
   "metadata": {},
   "source": [
    "# 5. How do abstract classes differ from regular classes in Python? Discuss their use cases.\n",
    "\n",
    "Concrete Methods in Abstract Base Classes\n",
    "Concrete classes contain only concrete (normal) methods whereas abstract classes may contain both concrete methods and abstract methods.\n",
    "\n",
    "The concrete class provides an implementation of abstract methods, the abstract base class can also provide an implementation by invoking the methods via super(). "
   ]
  },
  {
   "cell_type": "code",
   "execution_count": 2,
   "id": "52276291-5f2c-4fbc-93cb-4591baff0167",
   "metadata": {},
   "outputs": [
    {
     "name": "stdout",
     "output_type": "stream",
     "text": [
      "Hello!!! Welcome to the Deposit & Withdrawal Machine\n"
     ]
    },
    {
     "name": "stdin",
     "output_type": "stream",
     "text": [
      "Enter amount to be Deposited:  000\n"
     ]
    },
    {
     "name": "stdout",
     "output_type": "stream",
     "text": [
      "\n",
      " Amount Deposited: 0.0\n"
     ]
    },
    {
     "name": "stdin",
     "output_type": "stream",
     "text": [
      "Enter amount to be Withdrawn:  33\n"
     ]
    },
    {
     "name": "stdout",
     "output_type": "stream",
     "text": [
      "\n",
      " Insufficient balance  \n",
      "\n",
      " Net Available Balance= 0.0\n"
     ]
    }
   ],
   "source": [
    "# 6. Create a Python class for a bank account and demonstrate abstraction by hiding the account balance and providing methods to deposit and withdraw funds.\n",
    "\n",
    "class Bank_Account:\n",
    "    def __init__(self):\n",
    "        self.balance=0\n",
    "        print(\"Hello!!! Welcome to the Deposit & Withdrawal Machine\")\n",
    " \n",
    "    def deposit(self):\n",
    "        amount=float(input(\"Enter amount to be Deposited: \"))\n",
    "        self.balance += amount\n",
    "        print(\"\\n Amount Deposited:\",amount)\n",
    " \n",
    "    def withdraw(self):\n",
    "        amount = float(input(\"Enter amount to be Withdrawn: \"))\n",
    "        if self.balance>=amount:\n",
    "            self.balance-=amount\n",
    "            print(\"\\n You Withdrew:\", amount)\n",
    "        else:\n",
    "            print(\"\\n Insufficient balance  \")\n",
    " \n",
    "    def display(self):\n",
    "        print(\"\\n Net Available Balance=\",self.balance)\n",
    " \n",
    "# Driver code\n",
    "  \n",
    "# creating an object of class\n",
    "s = Bank_Account()\n",
    "  \n",
    "# Calling functions with that class object\n",
    "s.deposit()\n",
    "s.withdraw()\n",
    "s.display()"
   ]
  },
  {
   "cell_type": "markdown",
   "id": "c8c77c3c-855e-4d8c-b2a5-52facd51f1dc",
   "metadata": {},
   "source": [
    "# 7. Discuss the concept of interface classes in Python and their role in achieving abstraction.\n",
    "\n",
    "What is an interface?\n",
    "\n",
    "An interface defines a contract between a class and its users. It specifies a set of methods that a class must implement in order to be considered compatible with the interface. In Python, interfaces can be implemented using abstract base classes (ABCs)."
   ]
  },
  {
   "cell_type": "code",
   "execution_count": 3,
   "id": "f1a15934-1aa5-4eb5-b216-44e475566a36",
   "metadata": {},
   "outputs": [
    {
     "name": "stdout",
     "output_type": "stream",
     "text": [
      "I have 3 sides\n",
      "I have 4 sides\n",
      "I have 5 sides\n",
      "I have 6 sides\n"
     ]
    }
   ],
   "source": [
    "# 8. Create a Python class hierarchy for animals and implement abstraction by defining common methods (e.g., `eat()`, `sleep()`) in an abstract base class.\n",
    "\n",
    "from abc import ABC, abstractmethod \n",
    "  \n",
    "  \n",
    "class Polygon(ABC): \n",
    "  \n",
    "    @abstractmethod\n",
    "    def noofsides(self): \n",
    "        pass\n",
    "  \n",
    "  \n",
    "class Triangle(Polygon): \n",
    "  \n",
    "    # overriding abstract method \n",
    "    def noofsides(self): \n",
    "        print(\"I have 3 sides\") \n",
    "  \n",
    "  \n",
    "class Pentagon(Polygon): \n",
    "  \n",
    "    # overriding abstract method \n",
    "    def noofsides(self): \n",
    "        print(\"I have 5 sides\") \n",
    "  \n",
    "  \n",
    "class Hexagon(Polygon): \n",
    "  \n",
    "    # overriding abstract method \n",
    "    def noofsides(self): \n",
    "        print(\"I have 6 sides\") \n",
    "  \n",
    "  \n",
    "class Quadrilateral(Polygon): \n",
    "  \n",
    "    # overriding abstract method \n",
    "    def noofsides(self): \n",
    "        print(\"I have 4 sides\") \n",
    "  \n",
    "  \n",
    "# Driver code \n",
    "R = Triangle() \n",
    "R.noofsides() \n",
    "  \n",
    "K = Quadrilateral() \n",
    "K.noofsides() \n",
    "  \n",
    "R = Pentagon() \n",
    "R.noofsides() \n",
    "  \n",
    "K = Hexagon() \n",
    "K.noofsides() "
   ]
  },
  {
   "cell_type": "markdown",
   "id": "d6513b0e-c597-4391-9d11-3c1c63d1b259",
   "metadata": {},
   "source": [
    "# 9. Explain the significance of encapsulation in achieving abstraction. Provide examples.\n",
    "\n",
    "Encapsulation is one of the fundamental concepts in object-oriented programming (OOP). It describes the idea of wrapping data and the methods that work on data within one unit. This puts restrictions on accessing variables and methods directly and can prevent the accidental modification of data. To prevent accidental change, an object’s variable can only be changed by an object’s method. Those types of variables are known as private variables."
   ]
  },
  {
   "cell_type": "code",
   "execution_count": 4,
   "id": "ab09f9cb-427b-4b92-9b32-dee0c8f4da3b",
   "metadata": {},
   "outputs": [
    {
     "name": "stdout",
     "output_type": "stream",
     "text": [
      "Calling protected member of base class:  2\n",
      "Calling modified protected member outside class:  3\n",
      "Accessing protected member of obj1:  3\n",
      "Accessing protected member of obj2:  2\n"
     ]
    }
   ],
   "source": [
    "# example :\n",
    "\n",
    "class Base: \n",
    "    def __init__(self): \n",
    "  \n",
    "        # Protected member \n",
    "        self._a = 2\n",
    "  \n",
    "# Creating a derived class \n",
    "class Derived(Base): \n",
    "    def __init__(self): \n",
    "  \n",
    "        # Calling constructor of \n",
    "        # Base class \n",
    "        Base.__init__(self) \n",
    "        print(\"Calling protected member of base class: \",  \n",
    "              self._a) \n",
    "  \n",
    "        # Modify the protected variable: \n",
    "        self._a = 3\n",
    "        print(\"Calling modified protected member outside class: \", \n",
    "              self._a) \n",
    "  \n",
    "  \n",
    "obj1 = Derived() \n",
    "  \n",
    "obj2 = Base() \n",
    "  \n",
    "# Calling protected member \n",
    "# Can be accessed but should not be done due to convention \n",
    "print(\"Accessing protected member of obj1: \", obj1._a) \n",
    "  \n",
    "# Accessing the protected variable outside \n",
    "print(\"Accessing protected member of obj2: \", obj2._a) "
   ]
  },
  {
   "cell_type": "markdown",
   "id": "489151e5-2f8c-47a2-a9bf-f272ac47e8a8",
   "metadata": {},
   "source": [
    "# 10. What is the purpose of abstract methods, and how do they enforce abstraction in Python classes?\n",
    "\n",
    "It allows you to create a set of methods that must be created within any child classes built from the abstract class.\n",
    "\n",
    "A class that contains one or more abstract methods is called an abstract class. An abstract method is a method that has a declaration but does not have an implementation."
   ]
  },
  {
   "cell_type": "code",
   "execution_count": 5,
   "id": "52de4463-4a03-4906-9155-f05ba8050b6a",
   "metadata": {},
   "outputs": [],
   "source": [
    "# 11. Create a Python class for a vehicle system and demonstrate abstraction by defining common methods (e.g., `start()`, `stop()`) in an abstract base class.\n",
    "\n",
    "# shape.py\n",
    "\n",
    "from abc import ABC, abstractmethod\n",
    "\n",
    "class Shape(ABC):\n",
    "    @abstractmethod\n",
    "    def area(self):\n",
    "              pass\n",
    "    \n",
    "    @abstractmethod\n",
    "    def perimeter(self):\n",
    "                  pass"
   ]
  },
  {
   "cell_type": "markdown",
   "id": "906a1b0a-15d0-4009-9013-2b09bdb694ff",
   "metadata": {},
   "source": [
    "# 12. Describe the use of abstract properties in Python and how they can be employed in abstract classes.\n",
    "\n",
    "An abstract class can be considered a blueprint for other classes. It allows you to create a set of methods that must be created within any child classes built from the abstract class.\n",
    "\n",
    "A class that contains one or more abstract methods is called an abstract class. An abstract method is a method that has a declaration but does not have an implementation.\n",
    "\n",
    "We use an abstract class while we are designing large functional units or when we want to provide a common interface for different implementations of a component. \n",
    "\n",
    "Abstract Base Classes in Python\n",
    "\n",
    "By defining an abstract base class, you can define a common Application Program Interface(API) for a set of subclasses. This capability is especially useful in situations where a third party is going to provide implementations, such as with plugins, but can also help you when working in a large team or with a large code base where keeping all classes in your mind is difficult or not possible. "
   ]
  },
  {
   "cell_type": "code",
   "execution_count": null,
   "id": "b1d7e2a9-c6ef-4287-af87-c16fe40994c1",
   "metadata": {},
   "outputs": [
    {
     "name": "stdout",
     "output_type": "stream",
     "text": [
      "Enter the empid :: "
     ]
    },
    {
     "name": "stdin",
     "output_type": "stream",
     "text": [
      " 5226\n"
     ]
    },
    {
     "name": "stdout",
     "output_type": "stream",
     "text": [
      "Enter the name :: "
     ]
    },
    {
     "name": "stdin",
     "output_type": "stream",
     "text": [
      " 16\n"
     ]
    },
    {
     "name": "stdout",
     "output_type": "stream",
     "text": [
      "Enter the salary :: "
     ]
    },
    {
     "name": "stdin",
     "output_type": "stream",
     "text": [
      " 61656165\n"
     ]
    },
    {
     "name": "stdout",
     "output_type": "stream",
     "text": [
      "Enter the empid :: "
     ]
    },
    {
     "name": "stdin",
     "output_type": "stream",
     "text": [
      " 165416\n"
     ]
    },
    {
     "name": "stdout",
     "output_type": "stream",
     "text": [
      "Enter the name :: "
     ]
    },
    {
     "name": "stdin",
     "output_type": "stream",
     "text": [
      " 651316\n"
     ]
    },
    {
     "name": "stdout",
     "output_type": "stream",
     "text": [
      "Enter the salary :: "
     ]
    },
    {
     "name": "stdin",
     "output_type": "stream",
     "text": [
      " 121\n"
     ]
    },
    {
     "name": "stdout",
     "output_type": "stream",
     "text": [
      "Enter the empid :: "
     ]
    },
    {
     "name": "stdin",
     "output_type": "stream",
     "text": [
      " 537375\n"
     ]
    },
    {
     "name": "stdout",
     "output_type": "stream",
     "text": [
      "Enter the name :: "
     ]
    },
    {
     "name": "stdin",
     "output_type": "stream",
     "text": [
      " 575663\n"
     ]
    },
    {
     "name": "stdout",
     "output_type": "stream",
     "text": [
      "Enter the salary :: "
     ]
    },
    {
     "name": "stdin",
     "output_type": "stream",
     "text": [
      " 786735\n"
     ]
    },
    {
     "name": "stdout",
     "output_type": "stream",
     "text": [
      "**** Data Entered as below ****\n",
      "Employee id = 5226\n",
      "Employee name = 16\n",
      "Employee salary = 61656165\n",
      "Employee id = 165416\n",
      "Employee name = 651316\n",
      "Employee salary = 121\n",
      "Employee id = 537375\n",
      "Employee name = 575663\n",
      "Employee salary = 786735\n"
     ]
    }
   ],
   "source": [
    "# 13. Create a Python class hierarchy for employees in a company (e.g., manager, developer, designer) and implement abstraction by defining a common `get_salary()` method.\n",
    "\n",
    "class Employee :\n",
    "    empid = 0\n",
    "    name = None\n",
    "    salary = 0.0\n",
    "    def getInput(self) :\n",
    "        print(\"Enter the empid :: \", end =\"\")\n",
    "        self.empid = input()\n",
    "        print(\"Enter the name :: \", end =\"\")\n",
    "        self.name = input()\n",
    "        print(\"Enter the salary :: \", end =\"\")\n",
    "        self.salary = input()\n",
    "    def display(self) :\n",
    "        print(\"Employee id = \" + str(self.empid))\n",
    "        print(\"Employee name = \" + self.name)\n",
    "        print(\"Employee salary = \" + str(self.salary))\n",
    "    def main( args) :\n",
    "        e = [None] * (3)\n",
    "        i = 0\n",
    "        while (i < 3) :\n",
    "            e[i] = Employee()\n",
    "            e[i].getInput()\n",
    "            i += 1\n",
    "        print(\"**** Data Entered as below ****\")\n",
    "        i = 0\n",
    "        while (i < 3) :\n",
    "            e[i].display()\n",
    "            i += 1\n",
    "     \n",
    "if __name__==\"__main__\":\n",
    "    Employee.main([])"
   ]
  },
  {
   "cell_type": "markdown",
   "id": "fa6dc2d0-18f9-4ee2-a505-f1570bc27953",
   "metadata": {},
   "source": [
    "# 14. Discuss the differences between abstract classes and concrete classes in Python, including their instantiation.\n",
    "\n",
    "Concrete Methods in Abstract Base Classes:\n",
    "\n",
    "Concrete classes contain only concrete (normal) methods whereas abstract classes may contain both concrete methods and abstract methods.\n",
    "\n",
    "The concrete class provides an implementation of abstract methods, the abstract base class can also provide an implementation by invoking the methods via super().\n",
    "\n"
   ]
  },
  {
   "cell_type": "code",
   "execution_count": 7,
   "id": "0553a8d2-f323-4329-aead-7cbb03a1c013",
   "metadata": {},
   "outputs": [
    {
     "name": "stdout",
     "output_type": "stream",
     "text": [
      "Abstract Base Class\n",
      "subclass \n"
     ]
    }
   ],
   "source": [
    "import abc \n",
    "from abc import ABC, abstractmethod \n",
    "  \n",
    "class R(ABC): \n",
    "    def rk(self): \n",
    "        print(\"Abstract Base Class\") \n",
    "  \n",
    "class K(R): \n",
    "    def rk(self): \n",
    "        super().rk() \n",
    "        print(\"subclass \") \n",
    "  \n",
    "# Driver code \n",
    "r = K() \n",
    "r.rk() "
   ]
  },
  {
   "cell_type": "markdown",
   "id": "065c45a8-a0ed-4bb3-982f-f1c859e34526",
   "metadata": {},
   "source": [
    "# 15. Explain the concept of abstract data types (ADTs) and their role in achieving abstraction in Python.\n",
    "\n",
    "What is ADT?\n",
    "\n",
    "The abstract data type is special kind of data type, whose behavior is defined by a set of values and set of operations. The keyword “Abstract” is used as we can use these data types, we can perform different operations. But how those operations are working that is totally hidden from the user. The ADT is made of primitive data types, but operation logics are hidden.\n",
    "\n",
    "Stack Abstract Data Type\n",
    "\n",
    "The stack abstract data type is defined by the following structure and operations. A stack is structured, as described above, as an ordered collection of items where items are added to and removed from the end called the “top”. Stacks are ordered LIFO. The stack operations are given below.\n",
    "\n",
    "Stack(): creates a new stack that is empty. It needs no parameters and returns an empty stack.\n",
    "\n",
    "push(item): adds a new item to the top of the stack. It needs the item and returns nothing.\n",
    "\n",
    "pop(): removes the top item from the stack. It needs no parameters and returns the item. The stack is modified.\n",
    "\n",
    "peek(): returns the top item from the stack but does not remove it. It needs no parameters. The stack is not modified.\n",
    "\n",
    "isEmpty(): tests to see whether the stack is empty. It needs no parameters and returns a boolean value.\n",
    "\n",
    "size(): returns the number of items on the stack. It needs no parameters and returns an integer."
   ]
  },
  {
   "cell_type": "markdown",
   "id": "b3e570b6-901a-452c-9481-31554e55f0dd",
   "metadata": {},
   "source": [
    "# 17. Discuss the benefits of using abstraction in large-scale software development projects.\n",
    "\n",
    "Abstraction, in software, is the hiding of unnecessary details. The key here is the word “unnecessary.” Depending on who you talk to and which software paradigm you’re working in, the definition of “necessary” will change. Just take a look at “no code” and “low code”: Entire companies are being built around the idea that you don’t need code to code.\n",
    "\n",
    "One more example: back-end infrastructure. Again, this one required an entire team. But now, with Backend as a Service (BaaS), you can abstract away things like cloud storage, authentication, and even machine learning. Firebase is the best instance of this. With Firebase, Google’s mobile application development platform, you can abstract away things like real-time database storage, cloud object storage, authentication, web hosting, and more."
   ]
  },
  {
   "cell_type": "markdown",
   "id": "643bb0f3-f425-4cc5-97f5-4a9b57d84722",
   "metadata": {},
   "source": [
    "# 18. Explain how abstraction enhances code reusability and modularity in Python programs.\n",
    "\n",
    "Abstraction and modularity are two key principles that can help simplify coding projects by breaking them down into smaller, more manageable pieces. \n",
    "\n",
    "Abstraction is the process of taking something complex and breaking it down into simpler, more manageable parts, while modularity is the practice of creating self-contained, reusable units of code. \n",
    "\n",
    "By using abstraction and modularity, developers can create code that is easier to understand, maintain, and modify, which can ultimately lead to a more efficient and effective development process. \n",
    "\n",
    "Additionally, abstraction and modularity can help improve the scalability and reliability of a codebase by making it easier to add new features or fix bugs without affecting the rest of the code."
   ]
  },
  {
   "cell_type": "code",
   "execution_count": 6,
   "id": "5195d4fe-b387-4c24-9700-7e69ca244b3b",
   "metadata": {},
   "outputs": [
    {
     "name": "stdout",
     "output_type": "stream",
     "text": [
      " ======LIBRARY MENU=======\n",
      "                  1. Display all available books\n",
      "                  2. Request a book\n",
      "                  3. Return a book\n",
      "                  4. Exit\n",
      "                  \n"
     ]
    },
    {
     "name": "stdin",
     "output_type": "stream",
     "text": [
      "Enter Choice: 1\n"
     ]
    },
    {
     "name": "stdout",
     "output_type": "stream",
     "text": [
      "The books we have in our library are as follows:\n",
      "================================\n",
      "The Last Battle\n",
      "The Screwtape letters\n",
      "The Great Divorce\n",
      " ======LIBRARY MENU=======\n",
      "                  1. Display all available books\n",
      "                  2. Request a book\n",
      "                  3. Return a book\n",
      "                  4. Exit\n",
      "                  \n"
     ]
    },
    {
     "name": "stdin",
     "output_type": "stream",
     "text": [
      "Enter Choice: 2\n"
     ]
    },
    {
     "name": "stdout",
     "output_type": "stream",
     "text": [
      "Enter the name of the book you'd like to borrow>>\n"
     ]
    },
    {
     "name": "stdin",
     "output_type": "stream",
     "text": [
      " The Last Battle\n"
     ]
    },
    {
     "name": "stdout",
     "output_type": "stream",
     "text": [
      "The book you requested has now been borrowed\n",
      " ======LIBRARY MENU=======\n",
      "                  1. Display all available books\n",
      "                  2. Request a book\n",
      "                  3. Return a book\n",
      "                  4. Exit\n",
      "                  \n"
     ]
    },
    {
     "name": "stdin",
     "output_type": "stream",
     "text": [
      "Enter Choice: 3\n"
     ]
    },
    {
     "name": "stdout",
     "output_type": "stream",
     "text": [
      "Enter the name of the book you'd like to return>>\n"
     ]
    },
    {
     "name": "stdin",
     "output_type": "stream",
     "text": [
      " The Last Battle\n"
     ]
    },
    {
     "name": "stdout",
     "output_type": "stream",
     "text": [
      "Thanks for returning your borrowed book\n",
      " ======LIBRARY MENU=======\n",
      "                  1. Display all available books\n",
      "                  2. Request a book\n",
      "                  3. Return a book\n",
      "                  4. Exit\n",
      "                  \n"
     ]
    },
    {
     "name": "stdin",
     "output_type": "stream",
     "text": [
      "Enter Choice: 4\n"
     ]
    },
    {
     "ename": "SystemExit",
     "evalue": "",
     "output_type": "error",
     "traceback": [
      "An exception has occurred, use %tb to see the full traceback.\n",
      "\u001b[0;31mSystemExit\u001b[0m\n"
     ]
    }
   ],
   "source": [
    "# 19. Create a Python class for a library system, implementing abstraction by defining common methods (e.g.,`add_book()`, `borrow_book()`) in an abstract base class.\n",
    "\n",
    "\n",
    "import sys\n",
    "class Library:\n",
    "      def __init__(self,listofbooks):#this init method is the first method to be invoked when you create an object\n",
    "            #what attributes does a library in general have? - for now, let's abstract and just say it has availablebooks (we're not going to program the shelves, and walls in!)\n",
    "            self.availablebooks=listofbooks\n",
    "\n",
    "      def displayAvailablebooks(self):\n",
    "                   print(\"The books we have in our library are as follows:\")\n",
    "                   print(\"================================\")\n",
    "                   for book in self.availablebooks:\n",
    "                         print(book)\n",
    "      def lendBook(self,requestedBook):\n",
    "            if requestedBook in self.availablebooks:\n",
    "                  print(\"The book you requested has now been borrowed\")\n",
    "                  self.availablebooks.remove(requestedBook)\n",
    "            else:\n",
    "                  print(\"Sorry the book you have requested is currently not in the library\")\n",
    "                  \n",
    "      def addBook(self,returnedBook):\n",
    "            self.availablebooks.append(returnedBook)\n",
    "            print(\"Thanks for returning your borrowed book\")\n",
    "            \n",
    "\n",
    "class Student:\n",
    "      def requestBook(self):\n",
    "            print(\"Enter the name of the book you'd like to borrow>>\")\n",
    "            self.book=input()\n",
    "            return self.book\n",
    "\n",
    "      def returnBook(self):\n",
    "            print(\"Enter the name of the book you'd like to return>>\")\n",
    "            self.book=input()\n",
    "            return self.book\n",
    "\n",
    "def main():            \n",
    "      library=Library([\"The Last Battle\",\"The Screwtape letters\",\"The Great Divorce\"])\n",
    "      student=Student()\n",
    "      done=False\n",
    "      while done==False:\n",
    "            print(\"\"\" ======LIBRARY MENU=======\n",
    "                  1. Display all available books\n",
    "                  2. Request a book\n",
    "                  3. Return a book\n",
    "                  4. Exit\n",
    "                  \"\"\")\n",
    "            choice=int(input(\"Enter Choice:\"))\n",
    "            if choice==1:\n",
    "                        library.displayAvailablebooks()\n",
    "            elif choice==2:\n",
    "                        library.lendBook(student.requestBook())\n",
    "            elif choice==3:\n",
    "                        library.addBook(student.returnBook())\n",
    "            elif choice==4:\n",
    "                  sys.exit()\n",
    "                  \n",
    "main()"
   ]
  },
  {
   "cell_type": "code",
   "execution_count": null,
   "id": "b5c310d9-4c2b-4e39-a6a6-bdc2195d0739",
   "metadata": {},
   "outputs": [],
   "source": []
  },
  {
   "cell_type": "markdown",
   "id": "da2fcd85-0ca2-4958-ac12-1dd20580f08a",
   "metadata": {},
   "source": [
    "# 20. Describe the concept of method abstraction in Python and how it relates to polymorphism.\n",
    "\n",
    "Abstract methods are methods that are declared in a base class but not defined. They act as placeholders that must be overridden by subclasses that inherit from the base class. Abstract methods enforce a consistent interface for subclasses and ensure that they provide their own implementation of the method. To create an abstract method in Python, you need to import the abstract base class (ABC) module and use the @abstractmethod decorator."
   ]
  },
  {
   "cell_type": "code",
   "execution_count": null,
   "id": "1f7888f2-1486-4c22-82af-792494baaaf0",
   "metadata": {},
   "outputs": [],
   "source": []
  },
  {
   "cell_type": "code",
   "execution_count": null,
   "id": "9440f7e8-763e-4fb4-b648-84c79543af08",
   "metadata": {},
   "outputs": [],
   "source": []
  },
  {
   "cell_type": "markdown",
   "id": "f46317a6-6a69-409f-af33-dd7f6b5a1bef",
   "metadata": {},
   "source": [
    "# Composition:"
   ]
  },
  {
   "cell_type": "markdown",
   "id": "64f392d1-dfb3-476d-8d80-7ca680a4ff9a",
   "metadata": {},
   "source": [
    "# 1. Explain the concept of composition in Python and how it is used to build complex objects from simpler ones.\n",
    "\n",
    "Composition is one of the fundamental concepts in object-oriented programming. It describes a class that references one or more objects of other classes in instance variables. This allows you to model a has-a association between objects.\n",
    "\n",
    "You can find such relationships quite regularly in the real world. A car, for example, has an engine and modern coffee machines often have an integrated grinder and a brewing unit."
   ]
  },
  {
   "cell_type": "markdown",
   "id": "92bbafb5-4c89-44c2-95c8-6c59ef00533e",
   "metadata": {},
   "source": [
    "# 2. Describe the difference between composition and inheritance in object-oriented programming.\n",
    "\n",
    "Inheritance:\n",
    "\n",
    "When we want to create a new class and there is already a class that includes some of the code that we want, we can derive our new class from the existing class. In doing this, we can reuse the fields and methods of the existing class without having to write them ourself.\n",
    "\n",
    "A subclass inherits all the members (fields, methods, and nested classes) from its superclass. Constructors are not members, so they are not inherited by subclasses, but the constructor of the superclass can be invoked from the subclass.\n",
    "\n",
    "Composition: \n",
    "\n",
    "The composition also provides code reusability but the difference here is we do not extend the class for this."
   ]
  },
  {
   "cell_type": "code",
   "execution_count": 1,
   "id": "a38cbdf4-e155-4f46-961a-bdea66610e79",
   "metadata": {},
   "outputs": [],
   "source": [
    "# 3. Create a Python class called `Author` with attributes for name and birthdate. Then, create a `Book` class that contains an instance of `Author` as a composition. Provide an example of creating a `Book` object.\n",
    "\n",
    "class Book:\n",
    "    def __init__(self, author, title, book_id):\n",
    "        self.author = author\n",
    "        self.title = title\n",
    "        self.book_id = book_id\n",
    "\n",
    "    def __str__(self):\n",
    "        return 'Book(author, title, book_id)'\n",
    "\n",
    "    def __repr__(self):\n",
    "\n",
    "        return 'Book(author, title, book_id)'\n",
    "\n",
    "    def __eq__(self, other):\n",
    "\n",
    "    #Not sure if this is the right approach\n",
    "\n",
    "        for title in Book:\n",
    "            for title in Book:\n",
    "                if title == title:\n",
    "                    if author == author:\n",
    "                        if book_id == book_id:\n",
    "                            return True \n"
   ]
  },
  {
   "cell_type": "markdown",
   "id": "aae33bee-9efc-41e1-b470-64f506a39b3e",
   "metadata": {},
   "source": [
    "# 4. Discuss the benefits of using composition over inheritance in Python, especially in terms of code flexibility and reusability.\n",
    "\n",
    "One of the primary advantages of composition over inheritance is that it provides greater flexibility in designing and implementing software systems. With composition, we can create complex objects by combining simple objects in different ways, depending on our needs. This means that we can build more modular and reusable code that can adapt to different requirements without the need for extensive modification.\n",
    "\n",
    "Another advantage of composition over inheritance is that it provides greater code reusability. By using composition, we can create simple, reusable objects that can be combined to create more complex objects. This means that we can avoid duplication of code, reduce the size of our codebase, and make our code more modular and maintainable."
   ]
  },
  {
   "cell_type": "markdown",
   "id": "d9be80eb-92f8-4a7f-8f9b-36a544aa814e",
   "metadata": {},
   "source": [
    "# 5. How can you implement composition in Python classes? Provide examples of using composition to create complex objects.\n",
    "\n",
    "We can access the member of one class inside a class using these 2 concepts: \n",
    "\n",
    "By Composition(Has-A Relation)\n",
    "\n",
    "By Inheritance(Is-A Relation)\n",
    "\n",
    "\n",
    "Implementation of Composition in Python\n",
    "\n",
    "By using the class names or by creating an object we can access the member of one class inside another class. \n",
    "\n"
   ]
  },
  {
   "cell_type": "code",
   "execution_count": 2,
   "id": "1dc80300-d86d-4301-90b4-ffcb9c64a2f5",
   "metadata": {},
   "outputs": [
    {
     "name": "stdout",
     "output_type": "stream",
     "text": [
      "Name of Employee :  Ronil\n",
      "Age of Employee :  20\n",
      "Address of Employee :  Indore\n",
      "Salary of Employee :  25000\n"
     ]
    }
   ],
   "source": [
    "class Employee:\n",
    " \n",
    "    # constructor for initialization\n",
    "    def __init__(self, name, age):\n",
    "        self.name = name\n",
    "        self.age = age\n",
    " \n",
    "    # instance method\n",
    "    def emp_data(self):\n",
    "        print('Name of Employee : ', self.name)\n",
    "        print('Age of Employee : ', self.age)\n",
    " \n",
    " \n",
    "class Data:\n",
    "    def __init__(self, address, salary, emp_obj):\n",
    "        self.address = address\n",
    "        self.salary = salary\n",
    " \n",
    "        # creating object of Employee class\n",
    "        self.emp_obj = emp_obj\n",
    " \n",
    "    # instance method\n",
    "    def display(self):\n",
    " \n",
    "        # calling Employee class emp_data()\n",
    "        # method\n",
    "        self.emp_obj.emp_data()\n",
    "        print('Address of Employee : ', self.address)\n",
    "        print('Salary of Employee : ', self.salary)\n",
    " \n",
    "# creating Employee class object\n",
    "emp = Employee('Ronil', 20)\n",
    " \n",
    "# passing obj. of Emp. class during creation\n",
    "# of Data class object\n",
    "data = Data('Indore', 25000, emp)\n",
    " \n",
    "# call Data class instance method\n",
    "data.display()"
   ]
  },
  {
   "cell_type": "code",
   "execution_count": 3,
   "id": "b161e7f5-9465-423c-b4c4-c481e57cbc0b",
   "metadata": {},
   "outputs": [],
   "source": [
    "# 6. Create a Python class hierarchy for a music player system, using composition to represent playlists and songs.\n",
    "\n",
    "#add many songs to the playlist\n",
    "def addsongs():\n",
    "    #a list of songs is returned \n",
    "    temp_song=filedialog.askopenfilenames(initialdir=\"Music/\",title=\"Choose a song\", filetypes=((\"mp3 Files\",\"*.mp3\"),))\n",
    "    #loop through everyitem in the list\n",
    "    for s in temp_song:\n",
    "        s=s.replace(\"C:/Users/lenovo/Desktop/DataFlair/Notepad/Music/\",\"\")\n",
    "        songs_list.insert(END,s)\n",
    "        \n",
    "            \n",
    "def deletesong():\n",
    "    curr_song=songs_list.curselection()\n",
    "    songs_list.delete(curr_song[0])\n",
    "    \n",
    "    \n",
    "def Play():\n",
    "    song=songs_list.get(ACTIVE)\n",
    "    song=f'C:/Users/lenovo/Desktop/DataFlair/Notepad/Music/{song}'\n",
    "    mixer.music.load(song)\n",
    "    mixer.music.play()\n",
    "\n",
    "#to pause the song \n",
    "def Pause():\n",
    "    mixer.music.pause()\n",
    "\n",
    "#to stop the  song \n",
    "def Stop():\n",
    "    mixer.music.stop()\n",
    "    songs_list.selection_clear(ACTIVE)\n",
    "\n",
    "#to resume the song\n",
    "\n",
    "def Resume():\n",
    "    mixer.music.unpause()\n",
    "\n",
    "#Function to navigate from the current song\n",
    "def Previous():\n",
    "    #to get the selected song index\n",
    "    previous_one=songs_list.curselection()\n",
    "    #to get the previous song index\n",
    "    previous_one=previous_one[0]-1\n",
    "    #to get the previous song\n",
    "    temp2=songs_list.get(previous_one)\n",
    "    temp2=f'C:/Users/lenovo/Desktop/DataFlair/Notepad/Music/{temp2}'\n",
    "    mixer.music.load(temp2)\n",
    "    mixer.music.play()\n",
    "    songs_list.selection_clear(0,END)\n",
    "    #activate new song\n",
    "    songs_list.activate(previous_one)\n",
    "    #set the next song\n",
    "    songs_list.selection_set(previous_one)\n",
    "\n",
    "def Next():\n",
    "    #to get the selected song index\n",
    "    next_one=songs_list.curselection()\n",
    "    #to get the next song index\n",
    "    next_one=next_one[0]+1\n",
    "    #to get the next song \n",
    "    temp=songs_list.get(next_one)\n",
    "    temp=f'C:/Users/lenovo/Desktop/DataFlair/Notepad/Music/{temp}'\n",
    "    mixer.music.load(temp)\n",
    "    mixer.music.play()\n",
    "    songs_list.selection_clear(0,END)\n",
    "    #activate newsong\n",
    "    songs_list.activate(next_one)\n",
    "     #set the next song\n",
    "    songs_list.selection_set(next_one)"
   ]
  },
  {
   "cell_type": "markdown",
   "id": "f5b0d0d1-fd43-4bc9-b17d-c20374006ee9",
   "metadata": {},
   "source": [
    "# 7. Explain the concept of \"has-a\" relationships in composition and how it helps design software systems.\n",
    "\n",
    "In database design, object-oriented programming and design, has-a (has_a or has a) is a composition relationship where one object (often called the constituted object, or part/constituent/member object) \"belongs to\" (is part or member of) another object (called the composite type), and behaves according to the rules of ownership. In simple words, has-a relationship in an object is called a member field of an object. Multiple has-a relationships will combine to form a possessive hierarchy."
   ]
  },
  {
   "cell_type": "markdown",
   "id": "5a3d3266-e11d-4ca5-8960-f7244a20d6f8",
   "metadata": {},
   "source": [
    "# 8. Create a Python class for a computer system, using composition to represent components like CPU, RAM, and storage devices.\n",
    "\n",
    "CPU usage or utilization refers to the time taken by a computer to process some information. RAM usage or MAIN MEMORY UTILIZATION on the other hand refers to the amount of time RAM is used by a certain system at a particular time. Both of these can be retrieved using Python.\n",
    "\n",
    "Get current CPU usage in Python:\n",
    "\n",
    "Get current CPU usage using psutil\n",
    "The function psutil.cpu_percent() provides the current system-wide CPU utilization in the form of a percentage. It takes a parameter which is the time interval (seconds). Since CPU utilization is calculated over a period of time it is recommended to provide a time interval."
   ]
  },
  {
   "cell_type": "code",
   "execution_count": 4,
   "id": "2afc0685-3033-4ec4-adf9-244e36db0d53",
   "metadata": {},
   "outputs": [
    {
     "name": "stdout",
     "output_type": "stream",
     "text": [
      "The CPU usage is:  3.1\n"
     ]
    }
   ],
   "source": [
    "# Importing the library\n",
    "import psutil\n",
    " \n",
    "# Calling psutil.cpu_precent() for 4 seconds\n",
    "print('The CPU usage is: ', psutil.cpu_percent(4))"
   ]
  },
  {
   "cell_type": "code",
   "execution_count": 1,
   "id": "c755faae-34ac-46f4-ad0f-6b4cb668190b",
   "metadata": {},
   "outputs": [],
   "source": [
    "# 10. Create a Python class for a car, using composition to represent components like the engine, wheels, and transmission.\n",
    "\n",
    "class Car:\n",
    "    def __init__(self, year, make, speed):\n",
    "        self.__year_model = year\n",
    "        self.__make = make\n",
    "        self.__speed = 0\n",
    "\n",
    "    def set_year_model(self, year):\n",
    "        self.__year_model = year\n",
    "\n",
    "    def set_make(self, make):\n",
    "        self.__make = make\n",
    "\n",
    "    def set_speed(self, speed):\n",
    "        self.__speed = 0\n",
    "\n",
    "    def get_year_model(self):\n",
    "        return self.__year_model\n",
    "\n",
    "    def get_make(self):\n",
    "        return self.__make\n",
    "\n",
    "    def get_speed(self):\n",
    "        return self.__speed\n",
    "\n",
    "    #methods\n",
    "    def accelerate(self):\n",
    "        self.speed +=5\n",
    "\n",
    "    def brake(self):\n",
    "        self.speed -=5\n",
    "\n",
    "    def get_speed(self):\n",
    "        return self.speed"
   ]
  },
  {
   "cell_type": "markdown",
   "id": "f5c9c923-88fa-4d4c-b00f-89bdd8fc7ac5",
   "metadata": {},
   "source": [
    "# 11. How can you encapsulate and hide the details of composed objects in Python classes to maintain abstraction?\n",
    "\n",
    "Encapsulation is one of the fundamental concepts in object-oriented programming (OOP). It describes the idea of wrapping data and the methods that work on data within one unit. This puts restrictions on accessing variables and methods directly and can prevent the accidental modification of data. To prevent accidental change, an object’s variable can only be changed by an object’s method. Those types of variables are known as private variables.\n",
    "\n",
    "A class is an example of encapsulation as it encapsulates all the data that is member functions, variables, etc. The goal of information hiding is to ensure that an object’s state is always valid by controlling access to attributes that are hidden from the outside world.\n",
    "\n"
   ]
  },
  {
   "cell_type": "code",
   "execution_count": 11,
   "id": "825219a6-f31c-4ee7-88ca-b81544fbdf13",
   "metadata": {},
   "outputs": [],
   "source": [
    "# 12. Create a Python class for a university course, using composition to represent students, instructors, and course materials.\n",
    "\n",
    "class Course(object):\n",
    "\n",
    "    def __init__(self,course_number):\n",
    "        self.course_number = int(course_number)\n",
    "        self.students = []\n",
    "\n",
    "    def get_course_number(self):\n",
    "         print (self.course_number)\n",
    "\n",
    "    def add_student(self, student_id):\n",
    "        self.students.append(student_id)\n",
    "\n",
    "    def drop_student(self, student_id):\n",
    "        if student_id in self.students:\n",
    "            self.students.remove(student_id)\n",
    "\n",
    "    def get_roster(self):\n",
    "        print (sorted(self.students))\n",
    "\n",
    "    def show_students(self):\n",
    "        print (self.students)"
   ]
  },
  {
   "cell_type": "markdown",
   "id": "88b7969f-7140-465f-9764-f37b99fe2f1e",
   "metadata": {},
   "source": [
    "# 13. Discuss the challenges and drawbacks of composition, such as increased complexity and potential for tight coupling between objects.\n",
    "\n",
    "Coupling: Coupling is the measure of the degree of interdependence between the modules. A good software will have low coupling. \n",
    "\n",
    "Types of Coupling: \n",
    "\n",
    "#Data Coupling: If the dependency between the modules is based on the fact that they communicate by passing only data, then the modules are said to be data coupled. In data coupling, the components are independent of each other and communicate through data. Module communications don’t contain tramp data. Example-customer billing system.\n",
    "Stamp Coupling In stamp coupling, the complete data structure is passed from one module to another module. Therefore, it involves tramp data. It may be necessary due to efficiency factors- this choice was made by the insightful designer, not a lazy programmer.\n",
    "\n",
    "#Control Coupling: If the modules communicate by passing control information, then they are said to be control coupled. It can be bad if parameters indicate completely different behavior and good if parameters allow factoring and reuse of functionality. Example- sort function that takes comparison function as an argument.\n",
    "\n",
    "#External Coupling: In external coupling, the modules depend on other modules, external to the software being developed or to a particular type of hardware. Ex- protocol, external file, device format, etc.\n",
    "\n",
    "#Common Coupling: The modules have shared data such as global data structures. The changes in global data mean tracing back to all modules which access that data to evaluate the effect of the change. So it has got disadvantages like difficulty in reusing modules, reduced ability to control data accesses, and reduced maintainability.\n",
    "\n",
    "#Content Coupling: In a content coupling, one module can modify the data of another module, or control flow is passed from one module to the other module. This is the worst form of coupling and should be avoided.\n",
    "\n",
    "#Temporal Coupling: Temporal coupling occurs when two modules depend on the timing or order of events, such as one module needing to execute before another. This type of coupling can result in design issues and difficulties in testing and maintenance.\n",
    "\n",
    "#Sequential Coupling: Sequential coupling occurs when the output of one module is used as the input of another module, creating a chain or sequence of dependencies. This type of coupling can be difficult to maintain and modify.\n",
    "\n",
    "#Communicational Coupling: Communicational coupling occurs when two or more modules share a common communication mechanism, such as a shared message queue or database. This type of coupling can lead to performance issues and difficulty in debugging.\n",
    "\n",
    "#Functional Coupling: Functional coupling occurs when two modules depend on each other’s functionality, such as one module calling a function from another module. This type of coupling can result in tightly-coupled code that is difficult to modify and maintain.\n",
    "\n",
    "#Data-Structured Coupling: Data-structured coupling occurs when two or more modules share a common data structure, such as a database table or data file. This type of coupling can lead to difficulty in maintaining the integrity of the data structure and can result in performance issues.\n",
    "\n",
    "#Interaction Coupling: Interaction coupling occurs due to the methods of a class invoking methods of other classes. Like with functions, the worst form of coupling here is if methods directly access internal parts of other methods. Coupling is lowest if methods communicate directly through parameters.\n",
    "\n",
    "#Component Coupling: Component coupling refers to the interaction between two classes where a class has variables of the other class. Three clear situations exist as to how this can happen. A class C can be component coupled with another class C1, if C has an instance variable of type C1, or C has a method whose parameter is of type C1,or if C has a method which has a local variable of type C1. It should be clear that whenever there is component coupling, there is likely to be interaction coupling."
   ]
  },
  {
   "cell_type": "code",
   "execution_count": 13,
   "id": "fec0750f-0cdc-4ee5-a6a3-fa3574cf50e4",
   "metadata": {},
   "outputs": [
    {
     "name": "stdout",
     "output_type": "stream",
     "text": [
      "\n",
      "Popular dishes in the restaurant along with their prices:\n",
      "Cheeseburger: 9.99\n",
      "Caesar Salad: 8\n",
      "Grilled Salmon: 19.99\n",
      "French Fries: 3.99\n",
      "Fish & Chips:: 15\n",
      "\n",
      "Table reserved in the Restaurant:\n",
      "Table 1\n",
      "Table 2\n",
      "Table 3\n",
      "\n",
      "Print customer orders:\n",
      "Table 1: Cheeseburger\n",
      "Table 1: Grilled Salmon\n",
      "Table 2: Fish & Chips\n",
      "Table 2: Grilled Salmon\n"
     ]
    }
   ],
   "source": [
    "# 14. Create a Python class hierarchy for a restaurant system, using composition to represent menus, dishes,and ingredients.\n",
    "\n",
    "class Restaurant:\n",
    "    def __init__(self):\n",
    "        self.menu_items = {}\n",
    "        self.book_table = []\n",
    "        self.customer_orders = []\n",
    "\n",
    "    def add_item_to_menu(self, item, price):\n",
    "        self.menu_items[item] = price\n",
    "\n",
    "    def book_tables(self, table_number):\n",
    "        self.book_table.append(table_number)\n",
    "\n",
    "    def customer_order(self, table_number, order):\n",
    "        order_details = {'table_number': table_number, 'order': order}\n",
    "        self.customer_orders.append(order_details)\n",
    "\n",
    "    def print_menu_items(self):\n",
    "        for item, price in self.menu_items.items():\n",
    "            print(\"{}: {}\".format(item, price))\n",
    "\n",
    "    def print_table_reservations(self):\n",
    "        for table in self.book_table:\n",
    "            print(\"Table {}\".format(table))\n",
    "\n",
    "    def print_customer_orders(self):\n",
    "        for order in self.customer_orders:\n",
    "            print(\"Table {}: {}\".format(order['table_number'], order['order']))\n",
    "\n",
    "restaurant = Restaurant()\n",
    "\n",
    "# Add items\n",
    "restaurant.add_item_to_menu(\"Cheeseburger\", 9.99)\n",
    "restaurant.add_item_to_menu(\"Caesar Salad\", 8)\n",
    "restaurant.add_item_to_menu(\"Grilled Salmon\", 19.99)\n",
    "restaurant.add_item_to_menu(\"French Fries\", 3.99)\n",
    "restaurant.add_item_to_menu(\"Fish & Chips:\", 15)\n",
    "# Book table\n",
    "restaurant.book_tables(1)\n",
    "restaurant.book_tables(2)\n",
    "restaurant.book_tables(3)\n",
    "# Order items\n",
    "restaurant.customer_order(1, \"Cheeseburger\")\n",
    "restaurant.customer_order(1, \"Grilled Salmon\")\n",
    "restaurant.customer_order(2, \"Fish & Chips\")\n",
    "restaurant.customer_order(2, \"Grilled Salmon\")\n",
    "\n",
    "print(\"\\nPopular dishes in the restaurant along with their prices:\")\n",
    "restaurant.print_menu_items()\n",
    "print(\"\\nTable reserved in the Restaurant:\")\n",
    "restaurant.print_table_reservations()\n",
    "print(\"\\nPrint customer orders:\")\n",
    "restaurant.print_customer_orders()"
   ]
  },
  {
   "cell_type": "markdown",
   "id": "7193b266-13a4-481a-9a20-35ffb3ae5526",
   "metadata": {},
   "source": [
    "# 15. Explain how composition enhances code maintainability and modularity in Python programs.\n",
    "\n",
    "The module simply means the software components that are been created by dividing the software. The software is divided into various components that work together to form a single functioning item but sometimes they can perform as a complete function if not connected with each other. This process of creating software modules is known as Modularity in software engineering. It simply measures the degree to which these components are made up than can be combined. Some of the projects or software designs are very complex that it’s not easy to understand its working and functioning. In such cases, modularity is a key weapon that helps in reducing the complexity of such software or projects. The basic principle of Modularity is that “Systems should be built from cohesive, loosely coupled components (modules)” which means s system should be made up of different components that are united and work together in an efficient way and such components have a well-defined function. To define a modular system, several properties or criteria are there under which we can evaluate a design method while considering its abilities. These criteria are defined by Meyer. Some of them are given below:\n",
    "\n",
    "Modular Decomposability – Decomposability simply means to break down something into smaller pieces. Modular decomposability means to break down the problem into different sub-problems in a systematic manner. Solving a large problem is difficult sometimes, so the decomposition helps in reducing the complexity of the problem, and sub-problems created can be solved independently. This helps in achieving the basic principle of modularity.\n",
    "\n",
    "Modular Composability – Composability simply means the ability to combine modules that are created. It’s actually the principle of system design that deals with the way in which two or more components are related or connected to each other. Modular composability means to assemble the modules into a new system that means to connect the combine the components into a new system.\n",
    "\n",
    "Modular Understandability – Understandability simply means the capability of being understood, quality of comprehensible. Modular understandability means to make it easier for the user to understand each module so that it is very easy to develop software and change it as per requirement. Sometimes it’s not easy to understand the process models because of its complexity and its large size in structure. Using modularity understandability, it becomes easier to understand the problem in an efficient way without any issue.\n",
    "\n",
    "Modular Continuity – Continuity simply means unbroken or consistent or uninterrupted connection for a long period of time without any change or being stopped. Modular continuity means making changes to the system requirements that will cause changes in the modules individually without causing any effect or change in the overall system or software.\n",
    "\n",
    "Modular Protection – Protection simply means to keep something safe from any harms, to protect against any unpleasant means or damage. Modular protection means to keep safe the other modules from the abnormal condition occurring in a particular module at run time. The abnormal condition can be an error or failure also known as run-time errors. The side effects of these errors are constrained within the module.\n",
    "\n"
   ]
  },
  {
   "cell_type": "code",
   "execution_count": 14,
   "id": "7617fecc-1c82-43aa-b24e-0a0e3a78a488",
   "metadata": {},
   "outputs": [],
   "source": [
    "# 16. Create a Python class for a computer game character, using composition to represent attributes like weapons, armor, and inventory.\n",
    "\n",
    "WEAPONS = {\n",
    "    \"bastard's sting\": {\n",
    "        # magic enhancement, weight, value, dmg, and other attributes would go here.\n",
    "        \"magic\": 2,\n",
    "\n",
    "        # Those lists would contain the name of effects the weapon provides by default.\n",
    "        # They are empty because, in this example, the effects are only available in a\n",
    "        # specific condition.    \n",
    "        \"on_turn_actions\": [],\n",
    "        \"on_hit_actions\": [],\n",
    "        \"on_equip\": [\n",
    "            {\n",
    "                \"type\": \"check\",\n",
    "                \"condition\": {\n",
    "                    'object': 'owner',\n",
    "                    'attribute': 'char_class',\n",
    "                    'value': \"antipaladin\"\n",
    "                },\n",
    "                True: [\n",
    "                    {\n",
    "                        \"type\": \"action\",\n",
    "                        \"action\": \"add_to\",\n",
    "                        \"args\": {\n",
    "                            \"category\": \"on_hit\",\n",
    "                            \"actions\": [\"unholy\"]\n",
    "                        }\n",
    "                    },\n",
    "                    {\n",
    "                        \"type\": \"action\",\n",
    "                        \"action\": \"add_to\",\n",
    "                        \"args\": {\n",
    "                            \"category\": \"on_turn\",\n",
    "                            \"actions\": [\"unholy aurea\"]\n",
    "                        }\n",
    "                    },\n",
    "                    {\n",
    "                        \"type\": \"action\",\n",
    "                        \"action\": \"set_attribute\",\n",
    "                        \"args\": {\n",
    "                            \"field\": \"magic\",\n",
    "                            \"value\": 5\n",
    "                        }\n",
    "                    }\n",
    "                ],\n",
    "                False: [\n",
    "                    {\n",
    "                        \"type\": \"action\",\n",
    "                        \"action\": \"set_attribute\",\n",
    "                        \"args\": {\n",
    "                            \"field\": \"magic\",\n",
    "                            \"value\": 2\n",
    "                        }\n",
    "                    }\n",
    "                ]\n",
    "            }\n",
    "        ],\n",
    "        \"on_unequip\": [\n",
    "            {\n",
    "                \"type\": \"action\",\n",
    "                \"action\": \"remove_from\",\n",
    "                \"args\": {\n",
    "                    \"category\": \"on_hit\",\n",
    "                    \"actions\": [\"unholy\"]\n",
    "                },\n",
    "            },\n",
    "            {\n",
    "                \"type\": \"action\",\n",
    "                \"action\": \"remove_from\",\n",
    "                \"args\": {\n",
    "                    \"category\": \"on_turn\",\n",
    "                    \"actions\": [\"unholy aurea\"]\n",
    "                },\n",
    "            },\n",
    "            {\n",
    "                \"type\": \"action\",\n",
    "                \"action\": \"set_attribute\",\n",
    "                \"args\": [\"magic\", 2]\n",
    "            }\n",
    "        ]\n",
    "    }\n",
    "}"
   ]
  },
  {
   "cell_type": "markdown",
   "id": "c34b920e-d912-46b4-bdb5-9abb442c0e81",
   "metadata": {},
   "source": [
    "# 17. Describe the concept of \"aggregation\" in composition and how it differs from simple composition.\n",
    "\n",
    "Aggregation is one type of association between two objects describing the “have a” relationship, while Composition is a specific type of Aggregation which implies ownership.\n",
    "Aggregation is indicated using a straight line with an empty arrowhead at one end. On the other hand, the composition is indicated using a straight line with a filled arrowhead at any one of the ends.\n",
    "\n",
    "In an aggregation relationship, objects that are associated with each other can remain in the scope of a system without each other. But in a composition relationship, objects that are associated with each other cannot remain in the scope without each other.\n",
    "\n",
    "In Aggregation, linked objects are not dependent upon the other object, whereas in composition, objects are highly dependent upon each other.\n",
    "\n",
    "In Aggregation, deleting a single element does not affect another associated element. On the contrary, in composition, deleting a single element affects another associated element.\n",
    "\n",
    "Aggregation is denoted by a filled diamond, while an empty diamond denotes composition."
   ]
  },
  {
   "cell_type": "code",
   "execution_count": null,
   "id": "3883b396-e6cb-4a2d-995e-3c09d98e434a",
   "metadata": {},
   "outputs": [],
   "source": [
    "# 18. Create a Python class for a house, using composition to represent rooms, furniture, and appliances.\n",
    "\n",
    "class Address \n",
    "{ \n",
    "   String city; \n",
    "   String state; \n",
    "   String country; \n",
    "   Address(String c, String st, String coun){ \n",
    "       this.city =c; \n",
    "       this.state = st; \n",
    "       this.country = coun; \n",
    "   } \n",
    "} \n",
    "class Student \n",
    "{ \n",
    "   \tint rollNum; \n",
    "   \tString studentName; \n",
    "\tAddress studentAddr; // HAS-A relation \n",
    "   \t \n",
    "\tStudentClass(int roll, String name, Address addr){ \n",
    "       this.rollNum=roll; \n",
    "       this.studentName=name; \n",
    "       this.studentAddr = addr; \n",
    " } \n",
    " \n",
    "public Test{ \n",
    "\tpublic static void main(String args[]){ \n",
    "       Address address = new Address(\"Bangalore\", \"Karnataka\", \"India\"); \n",
    "       Student student = new Student(123, \"Chaitanya\", address); \n",
    "        \n",
    "\t}  \n",
    "} "
   ]
  },
  {
   "cell_type": "markdown",
   "id": "8259bf99-f93a-47a3-9647-6ab176960e06",
   "metadata": {},
   "source": [
    "# 19. How can you achieve flexibility in composed objects by allowing them to be replaced or modified dynamically at runtime?\n",
    "\n",
    "Python lets you dynamically attach attributes to existing objects that you’ve already created. However, you most often define instance attributes inside instance methods, which are those methods that receive self as their first argument.\n",
    "\n",
    "You can modify the instance .__dict__ dynamically. This means that you can change the value of existing instance attributes through .__dict__, as you did in the final example above. You can even add new attributes to an instance using its .__dict__ dictionary.\n",
    "\n",
    "You can modify the instance .__dict__ dynamically. This means that you can change the value of existing instance attributes through .__dict__, as you did in the final example above. You can even add new attributes to an instance using its .__dict__ dictionary.\n",
    "\n",
    "In Python, you can add new attributes to your classes and instances dynamically. This possibility allows you to attach new data and behavior to your classes and objects in response to changing requirements or contexts. It also allows you to adapt existing classes to specific and dynamic needs.\n",
    "\n",
    "Then you provide the User class with an initializer or .__init__() method. In this method, you take the name and job arguments, which you turn into instance attributes in the method’s body. Then you add the method to User dynamically. After this addition, you can create User objects by passing the name and job to the class constructor.\n",
    "\n",
    "As you can conclude from the above example, you can construct an entire Python class dynamically. Even though this capability of Python may seem neat, you must use it carefully because it can make your code difficult to understand and reason about.\n",
    "\n",
    "Adding a .__slots__ to your classes allows you to provide a series of allowed attributes. This means that you won’t be able to add new attributes to your instances dynamically. If you try to do it, then you’ll get an AttributeError exception.\n",
    "\n",
    "A word of caution is in order, as many of Python’s built-in mechanisms implicitly assume that objects have the .__dict__ attribute. When you use .__slots__(), then you waive that assumption, which means that some of those mechanisms might not work as expected anymore.\n",
    "\n"
   ]
  },
  {
   "cell_type": "code",
   "execution_count": null,
   "id": "557483b3-8c5d-4406-9931-6fd5184f9370",
   "metadata": {},
   "outputs": [],
   "source": [
    "# 20. Create a Python class for a social media application, using composition to represent users, posts, and comments.\n",
    "\n",
    "class Employee:\n",
    "\n",
    "\t# constructor for initialization\n",
    "\tdef __init__(self, name, age):\n",
    "\t\tself.name = name\n",
    "\t\tself.age = age\n",
    "\n",
    "\t# instance method\n",
    "\tdef emp_data(self):\n",
    "\t\tprint('Name of Employee : ', self.name)\n",
    "\t\tprint('Age of Employee : ', self.age)\n",
    "\n",
    "\n",
    "class Data:\n",
    "\tdef __init__(self, address, salary, emp_obj):\n",
    "\t\tself.address = address\n",
    "\t\tself.salary = salary\n",
    "\n",
    "\t\t# creating object of Employee class\n",
    "\t\tself.emp_obj = emp_obj\n",
    "\n",
    "\t# instance method\n",
    "\tdef display(self):\n",
    "\n",
    "\t\t# calling Employee class emp_data()\n",
    "\t\t# method\n",
    "\t\tself.emp_obj.emp_data()\n",
    "\t\tprint('Address of Employee : ', self.address)\n",
    "\t\tprint('Salary of Employee : ', self.salary)\n",
    "\n",
    "# creating Employee class object\n",
    "emp = Employee('Ronil', 20)\n",
    "\n",
    "# passing obj. of Emp. class during creation\n",
    "# of Data class object\n",
    "data = Data('Indore', 25000, emp)\n",
    "\n",
    "# call Data class instance method\n",
    "data.display()\n"
   ]
  },
  {
   "cell_type": "code",
   "execution_count": null,
   "id": "4dc52862-3b02-46b9-9b14-2189a9595fc2",
   "metadata": {},
   "outputs": [],
   "source": []
  }
 ],
 "metadata": {
  "kernelspec": {
   "display_name": "Python 3 (ipykernel)",
   "language": "python",
   "name": "python3"
  },
  "language_info": {
   "codemirror_mode": {
    "name": "ipython",
    "version": 3
   },
   "file_extension": ".py",
   "mimetype": "text/x-python",
   "name": "python",
   "nbconvert_exporter": "python",
   "pygments_lexer": "ipython3",
   "version": "3.10.8"
  }
 },
 "nbformat": 4,
 "nbformat_minor": 5
}
